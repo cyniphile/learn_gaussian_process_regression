{
 "cells": [
  {
   "cell_type": "markdown",
   "metadata": {},
   "source": [
    "<a target=\"_blank\" href=\"https://colab.research.google.com/github/cyniphile/learn_gaussian_process_regression/blob/main/gp_tutorial.ipynb\">\n",
    "  <img src=\"https://colab.research.google.com/assets/colab-badge.svg\" alt=\"Open In Colab\"/>\n",
    "</a>"
   ]
  },
  {
   "cell_type": "markdown",
   "metadata": {},
   "source": [
    "## _Before you start_\n",
    "\n",
    "Hit \"Restart & Run All\" if in Google Colab, or run all in your Jupyter notebook."
   ]
  },
  {
   "cell_type": "code",
   "execution_count": 10,
   "metadata": {
    "collapsed": true,
    "jupyter": {
     "outputs_hidden": true,
     "source_hidden": true
    },
    "tags": []
   },
   "outputs": [
    {
     "name": "stdout",
     "output_type": "stream",
     "text": [
      "Requirement already satisfied: numpy in ./.venv/lib/python3.11/site-packages (1.24.2)\n",
      "Requirement already satisfied: plotly in ./.venv/lib/python3.11/site-packages (5.14.1)\n",
      "Requirement already satisfied: ipywidgets in ./.venv/lib/python3.11/site-packages (8.0.6)\n",
      "Requirement already satisfied: ipython in ./.venv/lib/python3.11/site-packages (8.12.0)\n",
      "Requirement already satisfied: pandas in ./.venv/lib/python3.11/site-packages (2.0.0)\n",
      "Requirement already satisfied: seaborn in ./.venv/lib/python3.11/site-packages (0.12.2)\n",
      "Requirement already satisfied: ipykernel in ./.venv/lib/python3.11/site-packages (6.22.0)\n",
      "Requirement already satisfied: scipy in ./.venv/lib/python3.11/site-packages (1.10.1)\n",
      "Requirement already satisfied: jupyter-dash in ./.venv/lib/python3.11/site-packages (0.4.2)\n",
      "Requirement already satisfied: tenacity>=6.2.0 in ./.venv/lib/python3.11/site-packages (from plotly) (8.2.2)\n",
      "Requirement already satisfied: packaging in ./.venv/lib/python3.11/site-packages (from plotly) (23.1)\n",
      "Requirement already satisfied: traitlets>=4.3.1 in ./.venv/lib/python3.11/site-packages (from ipywidgets) (5.9.0)\n",
      "Requirement already satisfied: widgetsnbextension~=4.0.7 in ./.venv/lib/python3.11/site-packages (from ipywidgets) (4.0.7)\n",
      "Requirement already satisfied: jupyterlab-widgets~=3.0.7 in ./.venv/lib/python3.11/site-packages (from ipywidgets) (3.0.7)\n",
      "Requirement already satisfied: backcall in ./.venv/lib/python3.11/site-packages (from ipython) (0.2.0)\n",
      "Requirement already satisfied: decorator in ./.venv/lib/python3.11/site-packages (from ipython) (5.1.1)\n",
      "Requirement already satisfied: jedi>=0.16 in ./.venv/lib/python3.11/site-packages (from ipython) (0.18.2)\n",
      "Requirement already satisfied: matplotlib-inline in ./.venv/lib/python3.11/site-packages (from ipython) (0.1.6)\n",
      "Requirement already satisfied: pickleshare in ./.venv/lib/python3.11/site-packages (from ipython) (0.7.5)\n",
      "Requirement already satisfied: prompt-toolkit!=3.0.37,<3.1.0,>=3.0.30 in ./.venv/lib/python3.11/site-packages (from ipython) (3.0.38)\n",
      "Requirement already satisfied: pygments>=2.4.0 in ./.venv/lib/python3.11/site-packages (from ipython) (2.15.1)\n",
      "Requirement already satisfied: stack-data in ./.venv/lib/python3.11/site-packages (from ipython) (0.6.2)\n",
      "Requirement already satisfied: pexpect>4.3 in ./.venv/lib/python3.11/site-packages (from ipython) (4.8.0)\n",
      "Requirement already satisfied: appnope in ./.venv/lib/python3.11/site-packages (from ipython) (0.1.3)\n",
      "Requirement already satisfied: python-dateutil>=2.8.2 in ./.venv/lib/python3.11/site-packages (from pandas) (2.8.2)\n",
      "Requirement already satisfied: pytz>=2020.1 in ./.venv/lib/python3.11/site-packages (from pandas) (2023.3)\n",
      "Requirement already satisfied: tzdata>=2022.1 in ./.venv/lib/python3.11/site-packages (from pandas) (2023.3)\n",
      "Requirement already satisfied: matplotlib!=3.6.1,>=3.1 in ./.venv/lib/python3.11/site-packages (from seaborn) (3.7.1)\n",
      "Requirement already satisfied: comm>=0.1.1 in ./.venv/lib/python3.11/site-packages (from ipykernel) (0.1.3)\n",
      "Requirement already satisfied: debugpy>=1.6.5 in ./.venv/lib/python3.11/site-packages (from ipykernel) (1.6.7)\n",
      "Requirement already satisfied: jupyter-client>=6.1.12 in ./.venv/lib/python3.11/site-packages (from ipykernel) (8.2.0)\n",
      "Requirement already satisfied: jupyter-core!=5.0.*,>=4.12 in ./.venv/lib/python3.11/site-packages (from ipykernel) (5.3.0)\n",
      "Requirement already satisfied: nest-asyncio in ./.venv/lib/python3.11/site-packages (from ipykernel) (1.5.6)\n",
      "Requirement already satisfied: psutil in ./.venv/lib/python3.11/site-packages (from ipykernel) (5.9.5)\n",
      "Requirement already satisfied: pyzmq>=20 in ./.venv/lib/python3.11/site-packages (from ipykernel) (25.0.2)\n",
      "Requirement already satisfied: tornado>=6.1 in ./.venv/lib/python3.11/site-packages (from ipykernel) (6.3)\n",
      "Requirement already satisfied: dash in ./.venv/lib/python3.11/site-packages (from jupyter-dash) (2.9.3)\n",
      "Requirement already satisfied: requests in ./.venv/lib/python3.11/site-packages (from jupyter-dash) (2.28.2)\n",
      "Requirement already satisfied: flask in ./.venv/lib/python3.11/site-packages (from jupyter-dash) (2.2.3)\n",
      "Requirement already satisfied: retrying in ./.venv/lib/python3.11/site-packages (from jupyter-dash) (1.3.4)\n",
      "Requirement already satisfied: ansi2html in ./.venv/lib/python3.11/site-packages (from jupyter-dash) (1.8.0)\n",
      "Requirement already satisfied: parso<0.9.0,>=0.8.0 in ./.venv/lib/python3.11/site-packages (from jedi>=0.16->ipython) (0.8.3)\n",
      "Requirement already satisfied: platformdirs>=2.5 in ./.venv/lib/python3.11/site-packages (from jupyter-core!=5.0.*,>=4.12->ipykernel) (3.2.0)\n",
      "Requirement already satisfied: contourpy>=1.0.1 in ./.venv/lib/python3.11/site-packages (from matplotlib!=3.6.1,>=3.1->seaborn) (1.0.7)\n",
      "Requirement already satisfied: cycler>=0.10 in ./.venv/lib/python3.11/site-packages (from matplotlib!=3.6.1,>=3.1->seaborn) (0.11.0)\n",
      "Requirement already satisfied: fonttools>=4.22.0 in ./.venv/lib/python3.11/site-packages (from matplotlib!=3.6.1,>=3.1->seaborn) (4.39.3)\n",
      "Requirement already satisfied: kiwisolver>=1.0.1 in ./.venv/lib/python3.11/site-packages (from matplotlib!=3.6.1,>=3.1->seaborn) (1.4.4)\n",
      "Requirement already satisfied: pillow>=6.2.0 in ./.venv/lib/python3.11/site-packages (from matplotlib!=3.6.1,>=3.1->seaborn) (9.5.0)\n",
      "Requirement already satisfied: pyparsing>=2.3.1 in ./.venv/lib/python3.11/site-packages (from matplotlib!=3.6.1,>=3.1->seaborn) (3.0.9)\n",
      "Requirement already satisfied: ptyprocess>=0.5 in ./.venv/lib/python3.11/site-packages (from pexpect>4.3->ipython) (0.7.0)\n",
      "Requirement already satisfied: wcwidth in ./.venv/lib/python3.11/site-packages (from prompt-toolkit!=3.0.37,<3.1.0,>=3.0.30->ipython) (0.2.6)\n",
      "Requirement already satisfied: six>=1.5 in ./.venv/lib/python3.11/site-packages (from python-dateutil>=2.8.2->pandas) (1.16.0)\n",
      "Requirement already satisfied: dash-html-components==2.0.0 in ./.venv/lib/python3.11/site-packages (from dash->jupyter-dash) (2.0.0)\n",
      "Requirement already satisfied: dash-core-components==2.0.0 in ./.venv/lib/python3.11/site-packages (from dash->jupyter-dash) (2.0.0)\n",
      "Requirement already satisfied: dash-table==5.0.0 in ./.venv/lib/python3.11/site-packages (from dash->jupyter-dash) (5.0.0)\n",
      "Requirement already satisfied: Werkzeug>=2.2.2 in ./.venv/lib/python3.11/site-packages (from flask->jupyter-dash) (2.2.3)\n",
      "Requirement already satisfied: Jinja2>=3.0 in ./.venv/lib/python3.11/site-packages (from flask->jupyter-dash) (3.1.2)\n",
      "Requirement already satisfied: itsdangerous>=2.0 in ./.venv/lib/python3.11/site-packages (from flask->jupyter-dash) (2.1.2)\n",
      "Requirement already satisfied: click>=8.0 in ./.venv/lib/python3.11/site-packages (from flask->jupyter-dash) (8.1.3)\n",
      "Requirement already satisfied: charset-normalizer<4,>=2 in ./.venv/lib/python3.11/site-packages (from requests->jupyter-dash) (3.1.0)\n",
      "Requirement already satisfied: idna<4,>=2.5 in ./.venv/lib/python3.11/site-packages (from requests->jupyter-dash) (3.4)\n",
      "Requirement already satisfied: urllib3<1.27,>=1.21.1 in ./.venv/lib/python3.11/site-packages (from requests->jupyter-dash) (1.26.15)\n",
      "Requirement already satisfied: certifi>=2017.4.17 in ./.venv/lib/python3.11/site-packages (from requests->jupyter-dash) (2022.12.7)\n",
      "Requirement already satisfied: executing>=1.2.0 in ./.venv/lib/python3.11/site-packages (from stack-data->ipython) (1.2.0)\n",
      "Requirement already satisfied: asttokens>=2.1.0 in ./.venv/lib/python3.11/site-packages (from stack-data->ipython) (2.2.1)\n",
      "Requirement already satisfied: pure-eval in ./.venv/lib/python3.11/site-packages (from stack-data->ipython) (0.2.2)\n",
      "Requirement already satisfied: MarkupSafe>=2.0 in ./.venv/lib/python3.11/site-packages (from Jinja2>=3.0->flask->jupyter-dash) (2.1.2)\n",
      "\n",
      "\u001b[1m[\u001b[0m\u001b[34;49mnotice\u001b[0m\u001b[1;39;49m]\u001b[0m\u001b[39;49m A new release of pip is available: \u001b[0m\u001b[31;49m23.0\u001b[0m\u001b[39;49m -> \u001b[0m\u001b[32;49m23.1\u001b[0m\n",
      "\u001b[1m[\u001b[0m\u001b[34;49mnotice\u001b[0m\u001b[1;39;49m]\u001b[0m\u001b[39;49m To update, run: \u001b[0m\u001b[32;49mpip install --upgrade pip\u001b[0m\n",
      "Note: you may need to restart the kernel to use updated packages.\n"
     ]
    }
   ],
   "source": [
    "%pip install numpy plotly ipywidgets ipython pandas seaborn ipykernel scipy jupyter-dash"
   ]
  },
  {
   "cell_type": "code",
   "execution_count": 11,
   "metadata": {
    "jupyter": {
     "source_hidden": true
    },
    "tags": []
   },
   "outputs": [],
   "source": [
    "import numpy as np\n",
    "from plotly.subplots import make_subplots\n",
    "import plotly.graph_objs as go\n",
    "import plotly.express as px\n",
    "from ipywidgets import FloatText, VBox, HBox, interactive_output, widgets, FloatSlider, interactive\n",
    "from IPython.display import display, HTML\n",
    "import scipy as sp\n",
    "import seaborn as sns\n",
    "import pandas as pd\n",
    "from matplotlib import pyplot as plt"
   ]
  },
  {
   "cell_type": "markdown",
   "metadata": {},
   "source": [
    "# The First Blog Post You Should Read about Gaussian Processes (With Interactive Plots) \n",
    "\n",
    "Is this the 10th blog post you've read about Gaussian Processes and still don't understand them?\n",
    "\n",
    "When I set out to learn about Gaussian Processes (really Gaussian Process Regression), I ended up jumping around between many different resources that weren't quite dumbed down enough for me. So I'm going to trade rigorousness for simplicity and terseness for clarity.\n",
    "\n",
    "Once you get the core concept clicking here, I'd encourage you to read the references at the end for more details and rigor.\n",
    "\n",
    "> To understand this post, you should have a basic understanding of linear algebra and statistics, but when I say basic, I mean basic.\n",
    "\n",
    "> The code to generate this post is hidden, and not necessary for understanding the concepts. But if you know python/numpy you might find it helpful to look under the hood.\n",
    "\n",
    "_Why not make things as easy as possible?_"
   ]
  },
  {
   "cell_type": "markdown",
   "metadata": {},
   "source": [
    "## Why Gaussian Process Regression?\n",
    "\n",
    "I've always been intrigued by Gaussian Processes regression. It has a certain air of mystery about it...one of those models for the cool kids. GPR is supposed to be \"beautiful\", but also pretty hard to understand. All I knew about it was the following: \n",
    "\n",
    "1. It's a non-linear regression model (GPs can bu used for more than that, but we'll leave it at this for now)\n",
    "1. It also does built-in modeling of uncertainties (rather unique!)\n",
    "\n",
    "The following plot from the sci-kit learn documentation shows the output of GP regression model. Note the beautifully curved uncertainty bands. Where does this come from?\n",
    "\n",
    "![](2023-04-17-14-33-15.png)"
   ]
  },
  {
   "cell_type": "markdown",
   "metadata": {},
   "source": [
    "<!-- I was recently looking at a cool dataset: a list of about 30k different COVID antibodies, each one with a repeated measurement of how well it stuck to COVID spike particles. The better an antibody sticks, the better it is at fighting COVID (more or less). Importantly, each different antibody was measured for its binding strength three times, and the measurements were noisy. So we have a problem with:\n",
    "\n",
    "1. Nonlinear relationships \n",
    "1. Noisy data (uncertainty is important!) \n",
    "1. Dataset not huge.\n",
    "\n",
    "Finally I have a reason to learn about GPs (and level up how cool I am on Twitter)!  -->\n",
    "\n",
    "## GP Regression in One Line\n",
    "Turns out GP regression can be described in one (somewhat loaded) line:\n",
    "\n",
    "**GP Regression: A Multivariate Gaussian Distribution over functions, conditioned on some training data.**\n",
    "\n",
    "Hmm. Maybe not so terrible? But how does this connect to the idea of \"a nonlinear regression that models uncertainty\"?\n",
    "\n",
    "Let's unpack this definition bit by bit, starting with \"distribution over functions\"."
   ]
  },
  {
   "cell_type": "markdown",
   "metadata": {},
   "source": [
    "## Prequel: Distributions over Functions\n",
    "\n",
    "We all know linear regression; it has the form $y = \\beta_0 + \\beta_1 x$. We have some data $x$ and $y$, and we want to find the $\\beta_0$ and $\\beta_1$ that describe a line of best fit. We can do this using OLS (ordinary least squares), and we end up with a linear function $f(x) = \\beta_0 + \\beta_1 x$, that for any $x$ gives us a prediction for $y$.\n",
    "\n",
    "But what if we want some notion of the uncertainty of our prediction?\n",
    "\n",
    "For example, look at the two plots below:\n"
   ]
  },
  {
   "cell_type": "code",
   "execution_count": 12,
   "metadata": {
    "jupyter": {
     "source_hidden": true
    },
    "tags": []
   },
   "outputs": [
    {
     "data": {
      "text/plain": [
       "<Axes: >"
      ]
     },
     "execution_count": 12,
     "metadata": {},
     "output_type": "execute_result"
    },
    {
     "data": {
      "image/png": "[encoded data removed]",
      "text/plain": [
       "<Figure size 1200x400 with 2 Axes>"
      ]
     },
     "metadata": {},
     "output_type": "display_data"
    }
   ],
   "source": [
    "fig, (ax1, ax2) = plt.subplots(1, 2, figsize=(12, 4))\n",
    "x_reg = np.linspace(-3, 3, 10)\n",
    "NOISE_VARIANCE = 1\n",
    "y_noise = x_reg + np.random.normal(0, NOISE_VARIANCE, 10)\n",
    "LOW_NOISE_VARIANCE = 0.1\n",
    "y_low_noise = x_reg + np.random.normal(0, LOW_NOISE_VARIANCE, 10)\n",
    "sns.regplot(x=x_reg, y=y_noise, ax=ax1, ci=None)\n",
    "sns.regplot(x=x_reg, y=y_low_noise, ax=ax2, ci=None)"
   ]
  },
  {
   "attachments": {},
   "cell_type": "markdown",
   "metadata": {},
   "source": [
    "Even though the data on the left is much more noisy, both linear regressions model the data with the sample simple line. There's no measure of uncertainty in the model, so let's try to add some.\n",
    "\n",
    "What if (just for fun) we assumed $\\beta_0$ and $\\beta_1$ were normally distributed with variance equal to the variance in the data? Then our linear regression equation would look like this:\n",
    "\n",
    "$$y = B_0 + B_1 x$$\n",
    "\n",
    "where we've converted our betas to random variables as follows:\n",
    "\n",
    "$$\n",
    "B_0 \\sim \\mathcal{N}(B_0, \\sigma^2)\n",
    "$$\n",
    "$$\n",
    "B_1 \\sim \\mathcal{N}(\\beta_1, \\sigma^2)\n",
    "$$\n",
    "\n",
    "This reads \"$B_0$ is a random variable distributed according to a Gaussian with mean $\\beta_0$ and variance $\\sigma^2$\".\n",
    "We'll set $\\sigma^2$ to be the variance of the data about the best fit line. Now that the betas are random variables, let's sample from them, and plot the resulting lines:\n",
    "\n",
    "(Click the \"New Sample\" button below)"
   ]
  },
  {
   "cell_type": "code",
   "execution_count": 13,
   "metadata": {
    "jupyter": {
     "source_hidden": true
    },
    "tags": []
   },
   "outputs": [
    {
     "data": {
      "application/vnd.jupyter.widget-view+json": {
       "model_id": "3f6a81f4d8d1423b920ef9ab213da5df",
       "version_major": 2,
       "version_minor": 0
      },
      "text/plain": [
       "Button(button_style='success', description='New Sample', style=ButtonStyle())"
      ]
     },
     "metadata": {},
     "output_type": "display_data"
    },
    {
     "data": {
      "application/vnd.jupyter.widget-view+json": {
       "model_id": "0eb69142835344ffb4e7601b62b49d41",
       "version_major": 2,
       "version_minor": 0
      },
      "text/plain": [
       "Button(button_style='danger', description='Clear', style=ButtonStyle())"
      ]
     },
     "metadata": {},
     "output_type": "display_data"
    },
    {
     "data": {
      "application/vnd.jupyter.widget-view+json": {
       "model_id": "de1e8c5d386b4fe19673712267edfb2a",
       "version_major": 2,
       "version_minor": 0
      },
      "text/plain": [
       "FigureWidget({\n",
       "    'data': [{'mode': 'markers',\n",
       "              'type': 'scatter',\n",
       "              'uid': '00ec0449-8083-444f-b61f-a9816f3c80a2',\n",
       "              'x': array([-3.        , -2.33333333, -1.66666667, -1.        , -0.33333333,\n",
       "                           0.33333333,  1.        ,  1.66666667,  2.33333333,  3.        ]),\n",
       "              'xaxis': 'x',\n",
       "              'y': array([-4.60468713, -1.87204749, -0.92119592,  1.19556166,  0.57323097,\n",
       "                          -0.15676803,  2.65383154,  1.97881062,  2.74580122,  3.55136952]),\n",
       "              'yaxis': 'y'},\n",
       "             {'mode': 'lines',\n",
       "              'type': 'scatter',\n",
       "              'uid': 'c6e15175-f016-4c20-a3ef-56d9230ac101',\n",
       "              'x': array([-3.        , -2.33333333, -1.66666667, -1.        , -0.33333333,\n",
       "                           0.33333333,  1.        ,  1.66666667,  2.33333333,  3.        ]),\n",
       "              'xaxis': 'x',\n",
       "              'y': array([-3.37838984, -2.62763654, -1.87688325, -1.12612995, -0.37537665,\n",
       "                           0.37537665,  1.12612995,  1.87688325,  2.62763654,  3.37838984]),\n",
       "              'yaxis': 'y'},\n",
       "             {'mode': 'markers',\n",
       "              'type': 'scatter',\n",
       "              'uid': '524b52c9-523d-4a2a-99f5-306a88993289',\n",
       "              'x': array([-3.        , -2.33333333, -1.66666667, -1.        , -0.33333333,\n",
       "                           0.33333333,  1.        ,  1.66666667,  2.33333333,  3.        ]),\n",
       "              'xaxis': 'x2',\n",
       "              'y': array([-3.12247445, -2.28102327, -1.73454607, -1.02984051, -0.33363262,\n",
       "                           0.21302551,  0.98026151,  1.65001573,  2.23525813,  3.05500361]),\n",
       "              'yaxis': 'y2'},\n",
       "             {'mode': 'lines',\n",
       "              'type': 'scatter',\n",
       "              'uid': 'cbbb5502-1170-4c2e-a57c-dd04b93e0faa',\n",
       "              'x': array([-3.        , -2.33333333, -1.66666667, -1.        , -0.33333333,\n",
       "                           0.33333333,  1.        ,  1.66666667,  2.33333333,  3.        ]),\n",
       "              'xaxis': 'x2',\n",
       "              'y': array([-3.        , -2.33333333, -1.66666667, -1.        , -0.33333333,\n",
       "                           0.33333333,  1.        ,  1.66666667,  2.33333333,  3.        ]),\n",
       "              'yaxis': 'y2'}],\n",
       "    'layout': {'annotations': [{'font': {'size': 16},\n",
       "                                'showarrow': False,\n",
       "                                'text': 'High Noise',\n",
       "                                'x': 0.225,\n",
       "                                'xanchor': 'center',\n",
       "                                'xref': 'paper',\n",
       "                                'y': 1.0,\n",
       "                                'yanchor': 'bottom',\n",
       "                                'yref': 'paper'},\n",
       "                               {'font': {'size': 16},\n",
       "                                'showarrow': False,\n",
       "                                'text': 'Low Noise',\n",
       "                                'x': 0.775,\n",
       "                                'xanchor': 'center',\n",
       "                                'xref': 'paper',\n",
       "                                'y': 1.0,\n",
       "                                'yanchor': 'bottom',\n",
       "                                'yref': 'paper'}],\n",
       "               'showlegend': False,\n",
       "               'template': '...',\n",
       "               'xaxis': {'anchor': 'y', 'domain': [0.0, 0.45], 'fixedrange': True, 'range': [-3, 3]},\n",
       "               'xaxis2': {'anchor': 'y2', 'domain': [0.55, 1.0], 'fixedrange': True, 'range': [-3, 3]},\n",
       "               'yaxis': {'anchor': 'x', 'domain': [0.0, 1.0], 'fixedrange': True, 'range': [-5, 5]},\n",
       "               'yaxis2': {'anchor': 'x2', 'domain': [0.0, 1.0], 'fixedrange': True, 'range': [-5, 5]}}\n",
       "})"
      ]
     },
     "metadata": {},
     "output_type": "display_data"
    }
   ],
   "source": [
    "# Create scatter plot\n",
    "beta_0 = 0\n",
    "beta_1 = 1\n",
    "beta_1_1 = np.corrcoef(x_reg, y_noise)[0, 1] * np.std(y_noise) / np.std(x_reg)\n",
    "line_1 = x_reg * beta_1_1 + beta_0\n",
    "line_2 = x_reg * beta_1 + beta_0\n",
    "line_fig = go.Scatter(x=x_reg, y=line_1, mode='lines')\n",
    "fig =  go.FigureWidget(make_subplots(rows=1, cols=2, subplot_titles=('High Noise', 'Low Noise')))\n",
    "fig.update_yaxes(range=[-5, 5], fixedrange=True)\n",
    "fig.update_xaxes(range=[-3, 3], fixedrange=True)\n",
    "scatter_fig = go.Scatter(x=x_reg, y=y_noise, mode='markers')\n",
    "fig.add_trace(scatter_fig, row=1, col=1)\n",
    "fig.add_trace(line_fig, row=1, col=1)\n",
    "line_fig2 = go.Scatter(x=x_reg, y=line_2, mode='lines')\n",
    "scatter_fig2 = go.Scatter(x=x_reg, y=y_low_noise, mode='markers')\n",
    "fig.add_trace(scatter_fig2, row=1, col=2)\n",
    "fig.add_trace(line_fig2, row=1, col=2)\n",
    "fig.update_layout(showlegend=False)\n",
    "\n",
    "# Define button and callback function\n",
    "button = widgets.Button(description='New Sample', button_style='success')\n",
    "clear_button = widgets.Button(description='Clear', button_style='danger')\n",
    "\n",
    "def on_button_clicked(button):\n",
    "    beta_0_rand = np.random.normal(beta_0, NOISE_VARIANCE, 1)\n",
    "    beta_1_rand = np.random.normal(beta_1_1, NOISE_VARIANCE, 1)\n",
    "    line_data = x_reg * beta_1_rand + beta_0_rand\n",
    "    line_fig = go.Scatter(x=x_reg, y=line_data, mode='lines', opacity=.4)\n",
    "    fig.add_trace(line_fig, row=1, col=1)\n",
    "    beta_0_rand2 = np.random.normal(beta_0, LOW_NOISE_VARIANCE, 1)\n",
    "    beta_1_rand2 = np.random.normal(beta_1, LOW_NOISE_VARIANCE, 1)\n",
    "    line_data2 = x_reg * beta_1_rand2 + beta_0_rand2\n",
    "    line_fig2 = go.Scatter(x=x_reg, y=line_data2, mode='lines', opacity=.4)\n",
    "    fig.add_trace(line_fig2, row=1, col=2)\n",
    "\n",
    "def on_clear(button_clear):\n",
    "    fig.data = [] \n",
    "    scatter_fig = go.Scatter(x=x_reg, y=y_noise, mode='markers')\n",
    "    fig.add_trace(scatter_fig, row=1, col=1)\n",
    "    fig.add_trace(line_fig, row=1, col=1)\n",
    "    fig.add_trace(scatter_fig2, row=1, col=2)\n",
    "    fig.add_trace(line_fig2, row=1, col=2)\n",
    "    \n",
    "button.on_click(on_button_clicked)\n",
    "clear_button.on_click(on_clear)\n",
    "display(button)\n",
    "display(clear_button)\n",
    "display(fig)"
   ]
  },
  {
   "attachments": {},
   "cell_type": "markdown",
   "metadata": {},
   "source": [
    "Each time you click the button, a new sample is drawn from the distribution of $B_0$ and $B_1$ (one for the noisy data and one for the less noisy), and the corresponding lines are plotted.\n",
    "\n",
    "Notice what we've created: it's a distribution over _functions_. Each sample from  $y = B_0 + B_1 x$ is a different function. Also notice that as you sample more and more, the \"spread\" or uncertainty of the original fit becomes more and more apparent. You can also see that the uncertainty is higher in the noisier data.\n",
    "\n",
    "> This framework is just to develop for intuition for distributions over functions. For a more rigorous take, check out the bayesian linear regression section [here](https://gaussianprocess.org/gpml/chapters/RW.pdf#page=26&zoom=100,240,358).\n",
    "\n",
    "Returning to our original definition, we've checked off one core idea:\n",
    "\n",
    "**GP Regression: A Multivariate Gaussian <span style=\"color:#0ff\">Distribution over functions</span>, conditioned on some training data.**\n",
    "\n",
    "What if we want to model a non-linear relationship? Now we're getting closer to the core idea of GPs. But of course, before we get to Gaussian processes, we have to talk about Gaussians."
   ]
  },
  {
   "cell_type": "markdown",
   "metadata": {},
   "source": [
    "# Gaussians...and Multivariate Gaussians!\n",
    "\n",
    "The Gaussian, the bell curve, the normal distribution, we've seen it before. It's defined by \n",
    "\n",
    "$$\n",
    "Y \\sim \\mathcal{N}(\\mu, \\sigma^2)\n",
    "$$\n",
    "\n",
    "> More precisely, the PDF of a Gaussian is given by:\n",
    ">$$\n",
    ">\\mathcal{N}(\\mu, \\sigma^2) = \\frac{1}{\\sqrt{2\\pi\\sigma^2}} \\exp\\left(-\\frac{(y-\\mu)^2}{2\\sigma^2}\\right)\n",
    ">$$\n",
    "> But no need to worry about this for now.\n",
    "\n",
    "where $\\mu$ is the mean and $\\sigma^2$ is the variance. You can play around with the parameters of the distribution below. Each time you change the sliders, 10,000 samples are drawn from the distribution and plotted as a histogram."
   ]
  },
  {
   "cell_type": "code",
   "execution_count": 14,
   "metadata": {
    "jupyter": {
     "source_hidden": true
    },
    "tags": []
   },
   "outputs": [
    {
     "data": {
      "application/vnd.jupyter.widget-view+json": {
       "model_id": "9bde8458a58d460c826f86210bc2bd38",
       "version_major": 2,
       "version_minor": 0
      },
      "text/plain": [
       "interactive(children=(FloatSlider(value=0.0, description='Mean:', max=5.0, min=-5.0), FloatSlider(value=1.0, d…"
      ]
     },
     "metadata": {},
     "output_type": "display_data"
    },
    {
     "data": {
      "application/vnd.jupyter.widget-view+json": {
       "model_id": "69870cf604a44745b1a333359cb67d8a",
       "version_major": 2,
       "version_minor": 0
      },
      "text/plain": [
       "FigureWidget({\n",
       "    'data': [{'nbinsx': 50,\n",
       "              'type': 'histogram',\n",
       "              'uid': '75c82e37-ce03-4b89-83e9-8f9551703b63',\n",
       "              'x': array([-2.01347397, -1.36229231,  0.51234616, ...,  1.25332053, -0.87105306,\n",
       "                           0.21064688])}],\n",
       "    'layout': {'template': '...',\n",
       "               'title': {'text': 'Normal Distribution Histogram (µ=0.0, σ=1.0)'},\n",
       "               'xaxis': {'fixedrange': True, 'range': [-10, 10]}}\n",
       "})"
      ]
     },
     "metadata": {},
     "output_type": "display_data"
    }
   ],
   "source": [
    "# Create initial data for the histogram\n",
    "x = np.random.normal(0, 1, size=10000)\n",
    "\n",
    "# Create the histogram trace\n",
    "hist_trace = go.Histogram(x=x, nbinsx=50)\n",
    "fig_hist = go.FigureWidget(hist_trace)\n",
    "fig_hist.update_xaxes(range=[-10, 10], fixedrange=True)\n",
    "\n",
    "# Create the layout\n",
    "layout = go.Layout(\n",
    "    title='Normal Distribution Histogram',\n",
    "    xaxis=dict(title='Value'),\n",
    "    yaxis=dict(title='Count'),\n",
    ")\n",
    "\n",
    "# Define the function that will update the histogram\n",
    "def update_histogram(mean, variance):\n",
    "    x_new = np.random.normal(mean, variance, size=10000)\n",
    "    with fig_hist.batch_update():\n",
    "        fig_hist.data[0].x = x_new\n",
    "        fig_hist.layout.title = f'Normal Distribution Histogram (µ={np.round(mean, 2)}, σ={np.round(variance, 2)})'\n",
    "\n",
    "\n",
    "# Create the sliders\n",
    "mean_slider = FloatSlider(value=0, min=-5, max=5, step=0.1, description='Mean:')\n",
    "variance_slider = FloatSlider(value=1, min=0.1, max=5, step=0.1, description='Variance:')\n",
    "\n",
    "# Create the interactive widget\n",
    "interactive_histogram = interactive(update_histogram, mean=mean_slider, variance=variance_slider)\n",
    "\n",
    "# Display the widget and the initial histogram\n",
    "display(interactive_histogram)\n",
    "display(fig_hist)"
   ]
  },
  {
   "cell_type": "markdown",
   "metadata": {
    "tags": []
   },
   "source": [
    "What about multivariate Gaussians? That is, a Gaussian distribution but with more than one variable. They are basically the same thing, but instead of having a single mean and variance, there's there's a mean vector and a covariance matrix. \n",
    "\n",
    "So while a single Gaussian is this:\n",
    "\n",
    "$$\n",
    "Y \\sim \\mathcal{N}(\\mu, \\sigma^2)\n",
    "$$\n",
    "\n",
    "Where $\\mu$ is the mean and $\\sigma$ is the variance, a multivariate Gaussian is this:\n",
    "\n",
    "$$\n",
    "\\textbf{Y} \\sim \\mathcal{N}(\\boldsymbol{\\mu}, \\Sigma)\n",
    "$$\n",
    "\n",
    "Where $\\boldsymbol{\\mu}$ is a vector of means, $\\Sigma$ is a covariance matrix.\n",
    "\n",
    "$$\n",
    "\\boldsymbol{\\mu} = \\begin{bmatrix}\n",
    "\\mu_1 \\\\\n",
    "\\mu_2 \\\\\n",
    "\\vdots \\\\\n",
    "\\mu_n\n",
    "\\end{bmatrix},\n",
    "\n",
    "\\qquad\n",
    "\\Sigma = \\begin{bmatrix}\n",
    "\\sigma_{11} & \\sigma_{12} & \\dots & \\sigma_{1n} \\\\\n",
    "\\sigma_{21} & \\sigma_{22} & \\dots & \\sigma_{2n} \\\\\n",
    "\\vdots & \\vdots & \\ddots & \\vdots \\\\\n",
    "\\sigma_{n1} & \\sigma_{n2} & \\dots & \\sigma_{nn}\n",
    "\\end{bmatrix}.\n",
    "$$\n",
    "\n",
    "In the above expressions, $\\mu_i$ is the mean of the $i$ th component of $\\textbf{Y}$\n",
    "\n",
    "In this case when we sample from $\\textbf{Y}$, we get a vector $\\textbf{Y} = [Y_1, Y_2, \\dots, Y_n]^T$,  instead of just a single value\n"
   ]
  },
  {
   "cell_type": "markdown",
   "metadata": {
    "tags": []
   },
   "source": [
    "Nothing too crazy right? The biggest difference is that the multivariate normal distribution has a covariance matrix. \n",
    "\n",
    "In the covariance matrix we specify not only the variance of each variable, but also the covariance between each variable and every other. So each of the $n$ variables in a multivariate Gaussian can be correlated with each other. Below is an overhead view of a bunch of samples for a 2D multivariate Gaussian distribution. You can interactively change the covariance matrix to see how it affects the distribution.\n",
    "\n",
    "TODO: think more about positive semidefinite. Not simply positive an symmetric."
   ]
  },
  {
   "cell_type": "code",
   "execution_count": 15,
   "metadata": {
    "jupyter": {
     "source_hidden": true
    },
    "tags": []
   },
   "outputs": [
    {
     "data": {
      "application/vnd.jupyter.widget-view+json": {
       "model_id": "ba5e948acfe04e97beea14ac83490cd5",
       "version_major": 2,
       "version_minor": 0
      },
      "text/plain": [
       "VBox(children=(HBox(children=(HTMLMath(value='<br>Σ = '), HBox(children=(VBox(children=(FloatText(value=1.0, d…"
      ]
     },
     "metadata": {},
     "output_type": "display_data"
    },
    {
     "data": {
      "application/vnd.jupyter.widget-view+json": {
       "model_id": "58b32bf7a871407bbba208fa7600e56c",
       "version_major": 2,
       "version_minor": 0
      },
      "text/plain": [
       "Output()"
      ]
     },
     "metadata": {},
     "output_type": "display_data"
    }
   ],
   "source": [
    "import warnings\n",
    "warnings.filterwarnings(\"ignore\")\n",
    "\n",
    "def create_gaussian_plot(cov_matrix):\n",
    "    x, y = np.random.multivariate_normal([0, 0], cov_matrix, 10000).T\n",
    "    mv_fig = px.scatter(x=x, y=y, labels={\"x\": \"Y1\", \"y\": \"Y2\"}, opacity=0.1,\n",
    "                        marginal_x='histogram', marginal_y='histogram'\n",
    "                     )\n",
    "    mv_fig.update_layout(title=\"2D Multivariate Gaussian Distribution\")\n",
    "    return mv_fig\n",
    "\n",
    "# Step 6: Create the interactive table and plot\n",
    "initial_cov_matrix = np.array([[1, 0], [0, 1]])\n",
    "plotly_figure = go.FigureWidget(create_gaussian_plot(initial_cov_matrix))\n",
    "\n",
    "cov_00 = FloatText(value=1, description=\"Cov(Y1, Y1)\", step=.1)\n",
    "cov_01 = FloatText(value=0, description=\"Cov(Y1, Y2)\", step=.1)\n",
    "cov_10 = FloatText(value=0, description=\"Cov(Y2, Y1)\", step=.1)\n",
    "cov_11 = FloatText(value=1, description=\"Cov(Y2, Y2)\", step=.1)\n",
    "valid = widgets.Valid(\n",
    "    value=True,\n",
    ")\n",
    "\n",
    "# Step 5: Create the interactive update function\n",
    "def update_gaussian_plot(cov_00, cov_01, cov_10, cov_11, plotly_figure=plotly_figure):\n",
    "    if cov_01 != cov_10 or min(cov_00, cov_11) < 0:\n",
    "        valid.value = False\n",
    "        valid.description = \"Covariance is not symmetric positive-semidefinite\"\n",
    "        valid.style = {'description_width': 'initial'} \n",
    "    else:\n",
    "        valid.value = True\n",
    "        valid.description = \"\" \n",
    "        cov_matrix = np.array([[cov_00, cov_01], [cov_10, cov_11]])\n",
    "        mv_fig = create_gaussian_plot(cov_matrix)\n",
    "        with plotly_figure.batch_update():\n",
    "            plotly_figure.data[0]['y'] = mv_fig.data[0]['y']  # type: ignore \n",
    "            plotly_figure.data[0]['x'] = mv_fig.data[0]['x']  # type: ignore \n",
    "\n",
    "interactive_plot = interactive_output(\n",
    "    update_gaussian_plot,\n",
    "    {\"cov_00\": cov_00, \"cov_01\": cov_01, \"cov_10\": cov_10, \"cov_11\": cov_11},\n",
    ")\n",
    "\n",
    "# Step 7: Display the table and plot\n",
    "ui = VBox([ HBox([widgets.HTMLMath(value=r\"<br>Σ = \"), HBox([ VBox([cov_00, cov_01]), VBox([cov_10, cov_11])])]), valid, plotly_figure])\n",
    "display(ui, interactive_plot)"
   ]
  },
  {
   "cell_type": "markdown",
   "metadata": {},
   "source": [
    "Note that if you change the diagonal elements, the variance of one or the other variable will change (look at the scale of axes). If you change the off-diagonal elements, the covariance between the two variables will change. \n",
    "\n",
    "You also probably saw that the matrix has to be symmetric and with positive diagonals. Why? Well think about what covariance is: its how two variables vary together. It doesn't make sense for Cov(X,Y) != Cov(Y,X). And it doesn't make sense for Cov(X,X) — that is, Var(X) — to be negative.\n",
    "\n",
    "Also note that while the combined joint distribution changes form, each of the individual distributions is still a Gaussian. That is to say, the distribution of $X_1$ is still a gaussian, and the distribution of $X_2$ is still a Gaussian. The only thing that changes is the covariance between the two variables."
   ]
  },
  {
   "cell_type": "markdown",
   "metadata": {},
   "source": [
    "## Gaussian Distribution Over Functions\n",
    "\n",
    "So far we've visualized a multivariate Gaussian of just two variables, but you can imagine taking this into many many dimensions. That is to say, many many Gaussian random variables that may or may not be correlated with each other according to some big covariance matrix.\n",
    "\n",
    "In order to think about more than two dimensions, we'll need to visualize our distributions differently. Let's start with a 1-D Gaussian. We'll draw samples from the distribution and plot them below:"
   ]
  },
  {
   "cell_type": "code",
   "execution_count": 16,
   "metadata": {
    "jupyter": {
     "source_hidden": true
    },
    "tags": []
   },
   "outputs": [
    {
     "data": {
      "application/vnd.jupyter.widget-view+json": {
       "model_id": "4395b4babacb47ccbe2c7b437387fe85",
       "version_major": 2,
       "version_minor": 0
      },
      "text/plain": [
       "Button(button_style='success', description='New Sample', style=ButtonStyle())"
      ]
     },
     "metadata": {},
     "output_type": "display_data"
    },
    {
     "data": {
      "application/vnd.jupyter.widget-view+json": {
       "model_id": "bab45f5d05184102a33431cda9448178",
       "version_major": 2,
       "version_minor": 0
      },
      "text/plain": [
       "Button(button_style='danger', description='Clear', style=ButtonStyle())"
      ]
     },
     "metadata": {},
     "output_type": "display_data"
    },
    {
     "data": {
      "application/vnd.jupyter.widget-view+json": {
       "model_id": "db625bb764174a29a90d74ec9c742b00",
       "version_major": 2,
       "version_minor": 0
      },
      "text/plain": [
       "FigureWidget({\n",
       "    'data': [{'mode': 'markers', 'type': 'scatter', 'uid': '5567adb7-1558-4713-9dd0-624d14659b77'}],\n",
       "    'layout': {'template': '...', 'title': {'text': 'Samples from a 1-D Gaussian Distribution'}}\n",
       "})"
      ]
     },
     "metadata": {},
     "output_type": "display_data"
    }
   ],
   "source": [
    "# Create scatter plot\n",
    "scatter = go.Scatter(mode='markers')\n",
    "layout = go.Layout(title='Samples from a 1-D Gaussian Distribution')\n",
    "fig_1d = go.FigureWidget(go.Figure(data=[scatter], layout=layout) )\n",
    "\n",
    "# Define button and callback function\n",
    "button = widgets.Button(description='New Sample', button_style='success')\n",
    "clear_button = widgets.Button(description='Clear', button_style='danger')\n",
    "\n",
    "def on_button_clicked(button):\n",
    "    x = ['1']\n",
    "    y = np.random.normal(size=1)\n",
    "    scatter = go.Scatter(x=x, y=y, mode='markers', name=\"Sample\")\n",
    "    fig_1d.add_trace(scatter)\n",
    "\n",
    "def on_clear(button_clear):\n",
    "    fig_1d.data = [] \n",
    "    \n",
    "button.on_click(on_button_clicked)\n",
    "clear_button.on_click(on_clear)\n",
    "display(button)\n",
    "display(clear_button)\n",
    "display(fig_1d)\n"
   ]
  },
  {
   "cell_type": "markdown",
   "metadata": {},
   "source": [
    "Each new sample is drawn from a normal distribution with mean 0 and variance 1.\n",
    "\n",
    "What if we want to sample from a multivariate normal distribution? Well, this time $\\textbf{Y}$ is a _vector_ of random variables. If $\\textbf{Y}$ is 2-d then $\\textbf{Y} = [Y_1, Y_2]^T$, so each sample is a vector of two values which we'll plot each on their own part of the X-axis."
   ]
  },
  {
   "cell_type": "code",
   "execution_count": 17,
   "metadata": {
    "jupyter": {
     "source_hidden": true
    },
    "tags": []
   },
   "outputs": [
    {
     "data": {
      "application/vnd.jupyter.widget-view+json": {
       "model_id": "62a86380678e42b3be4df38e5648bde9",
       "version_major": 2,
       "version_minor": 0
      },
      "text/plain": [
       "Button(button_style='success', description='New Sample', style=ButtonStyle())"
      ]
     },
     "metadata": {},
     "output_type": "display_data"
    },
    {
     "data": {
      "application/vnd.jupyter.widget-view+json": {
       "model_id": "e5c76a4dd47d4f66a0108c706cd000cd",
       "version_major": 2,
       "version_minor": 0
      },
      "text/plain": [
       "Button(button_style='danger', description='Clear', style=ButtonStyle())"
      ]
     },
     "metadata": {},
     "output_type": "display_data"
    },
    {
     "data": {
      "application/vnd.jupyter.widget-view+json": {
       "model_id": "8d653e5984644fb6babd5579eb84fb98",
       "version_major": 2,
       "version_minor": 0
      },
      "text/plain": [
       "FigureWidget({\n",
       "    'data': [], 'layout': {'template': '...', 'title': {'text': 'Samples from 2-D Multivariate Gaussian Distribution'}}\n",
       "})"
      ]
     },
     "metadata": {},
     "output_type": "display_data"
    }
   ],
   "source": [
    "# Create scatter plot\n",
    "x = ['1', '2']\n",
    "scatter = go.Scatter(x = x)\n",
    "layout = go.Layout(title='Samples from 2-D Multivariate Gaussian Distribution')\n",
    "fig2 = go.FigureWidget(go.Figure(data=[scatter], layout=layout) )\n",
    "fig2.data = [] \n",
    "\n",
    "# Define button and callback function\n",
    "button = widgets.Button(description='New Sample', button_style='success')\n",
    "clear_button = widgets.Button(description='Clear', button_style='danger')\n",
    "\n",
    "def on_button_clicked(button):\n",
    "    y = np.random.multivariate_normal(mean=[0, 0], cov=[[1,0], [0, 1]], size=1)[0]\n",
    "    scatter = go.Scatter(x=x, y=y, mode='markers', name=\"Sample\")\n",
    "    fig2.add_trace(scatter, )\n",
    "\n",
    "\n",
    "def on_clear(button_clear):\n",
    "    fig2.data = [] \n",
    "    \n",
    "button.on_click(on_button_clicked)\n",
    "clear_button.on_click(on_clear)\n",
    "display(button)\n",
    "display(clear_button)\n",
    "display(fig2)"
   ]
  },
  {
   "cell_type": "markdown",
   "metadata": {},
   "source": [
    "So now each time we sample from a bivariate normal distrubtion, we get a vector of two numbers, which we plot as two connected points. Now let's look at a 3-D Gaussian,  $\\textbf{Y}_{3D} = [Y_1, Y_2, Y_3]^T$, "
   ]
  },
  {
   "cell_type": "code",
   "execution_count": 18,
   "metadata": {
    "jupyter": {
     "source_hidden": true
    },
    "tags": []
   },
   "outputs": [
    {
     "data": {
      "application/vnd.jupyter.widget-view+json": {
       "model_id": "3886c5b4c6ba4b71b3b5cf41723b5f31",
       "version_major": 2,
       "version_minor": 0
      },
      "text/plain": [
       "Button(button_style='success', description='New Sample', style=ButtonStyle())"
      ]
     },
     "metadata": {},
     "output_type": "display_data"
    },
    {
     "data": {
      "application/vnd.jupyter.widget-view+json": {
       "model_id": "8afa26ea5f074e17ab2d3fc3c46c29a6",
       "version_major": 2,
       "version_minor": 0
      },
      "text/plain": [
       "Button(button_style='danger', description='Clear', style=ButtonStyle())"
      ]
     },
     "metadata": {},
     "output_type": "display_data"
    },
    {
     "data": {
      "application/vnd.jupyter.widget-view+json": {
       "model_id": "fae607b278574a0bba974e58f2178607",
       "version_major": 2,
       "version_minor": 0
      },
      "text/plain": [
       "FigureWidget({\n",
       "    'data': [{'mode': 'markers', 'type': 'scatter', 'uid': 'a5050be4-fb0b-4d60-9c2d-d3c6b72c9840'}],\n",
       "    'layout': {'template': '...', 'title': {'text': 'Samples from a 3-D Multivariate Gaussian Distribution'}}\n",
       "})"
      ]
     },
     "metadata": {},
     "output_type": "display_data"
    }
   ],
   "source": [
    "# Create scatter plot\n",
    "scatter = go.Scatter(mode='markers')\n",
    "layout = go.Layout(title='Samples from a 3-D Multivariate Gaussian Distribution')\n",
    "fig3 = go.FigureWidget(go.Figure(data=[scatter], layout=layout) )\n",
    "\n",
    "# Define button and callback function\n",
    "button = widgets.Button(description='New Sample', button_style='success')\n",
    "clear_button = widgets.Button(description='Clear', button_style='danger')\n",
    "\n",
    "def on_button_clicked(button):\n",
    "    x = ['1', '2', \"3\"]\n",
    "    y = np.random.multivariate_normal(mean=[0, 0, 0 ], cov=[[1,0, 0], [0, 1, 0], [0,0,1]], size=1)[0]\n",
    "    scatter = go.Scatter(x=x, y=y, mode='markers', name=\"Sample\")\n",
    "    fig3.add_trace(scatter, )\n",
    "\n",
    "\n",
    "def on_clear(button_clear):\n",
    "    fig3.data = [] \n",
    "    \n",
    "button.on_click(on_button_clicked)\n",
    "clear_button.on_click(on_clear)\n",
    "display(button)\n",
    "display(clear_button)\n",
    "display(fig3)\n"
   ]
  },
  {
   "cell_type": "markdown",
   "metadata": {},
   "source": [
    "Now let's take it to an extreme: a 100-D Gaussian! $\\textbf{Y}_{100D} = [Y_1, Y_2, Y_3, \\dots, Y_{100}]^T$, so every sample is a vector of 100 random values."
   ]
  },
  {
   "cell_type": "code",
   "execution_count": 19,
   "metadata": {
    "jupyter": {
     "source_hidden": true
    },
    "tags": []
   },
   "outputs": [
    {
     "data": {
      "application/vnd.jupyter.widget-view+json": {
       "model_id": "d95bf842cd04401a9d20a733d4bab3f8",
       "version_major": 2,
       "version_minor": 0
      },
      "text/plain": [
       "Button(button_style='success', description='New Sample', style=ButtonStyle())"
      ]
     },
     "metadata": {},
     "output_type": "display_data"
    },
    {
     "data": {
      "application/vnd.jupyter.widget-view+json": {
       "model_id": "428a550eed7c476fb77003121b36f9ae",
       "version_major": 2,
       "version_minor": 0
      },
      "text/plain": [
       "Button(button_style='success', description='Connect Points', style=ButtonStyle())"
      ]
     },
     "metadata": {},
     "output_type": "display_data"
    },
    {
     "data": {
      "application/vnd.jupyter.widget-view+json": {
       "model_id": "33e562d2acfc48b39e41a9faac913da0",
       "version_major": 2,
       "version_minor": 0
      },
      "text/plain": [
       "Button(button_style='danger', description='Clear', style=ButtonStyle())"
      ]
     },
     "metadata": {},
     "output_type": "display_data"
    },
    {
     "data": {
      "application/vnd.jupyter.widget-view+json": {
       "model_id": "f76eb29ede744dcc942469f635974b81",
       "version_major": 2,
       "version_minor": 0
      },
      "text/plain": [
       "FigureWidget({\n",
       "    'data': [{'mode': 'markers', 'type': 'scatter', 'uid': '08b7d239-5e6d-4588-911c-1ac5427b9ca8'}],\n",
       "    'layout': {'template': '...', 'title': {'text': 'Sample from a 100-D Multivariate Gaussian Distribution'}}\n",
       "})"
      ]
     },
     "metadata": {},
     "output_type": "display_data"
    }
   ],
   "source": [
    "# Create scatter plot\n",
    "scatter = go.Scatter(mode='markers')\n",
    "layout = go.Layout(title='Sample from a 100-D Multivariate Gaussian Distribution')\n",
    "fig100 = go.FigureWidget(go.Figure(data=[scatter], layout=layout) )\n",
    "\n",
    "# Define button and callback function\n",
    "button = widgets.Button(description='New Sample', button_style='success')\n",
    "clear_button = widgets.Button(description='Clear', button_style='danger')\n",
    "connect_points = widgets.Button(description='Connect Points', button_style='success')\n",
    "\n",
    "def on_button_clicked(button):\n",
    "    x = np.linspace(0, 100, 100)\n",
    "    y = np.random.multivariate_normal(mean=np.zeros(100), cov=np.identity(100), size=1)[0]\n",
    "    scatter = go.Scatter(x=x, y=y, mode='markers', name=\"Sample\")\n",
    "    fig100.add_trace(scatter, )\n",
    "\n",
    "\n",
    "def on_clear(button_clear):\n",
    "    fig100.data = [] \n",
    "\n",
    "def on_connect(connect_points):\n",
    "    for f in fig100.data:\n",
    "        f['mode'] = 'lines+markers'\n",
    "\n",
    "    \n",
    "button.on_click(on_button_clicked)\n",
    "clear_button.on_click(on_clear)\n",
    "connect_points.on_click(on_connect)\n",
    "display(button)\n",
    "display(connect_points)\n",
    "display(clear_button)\n",
    "display(fig100)"
   ]
  },
  {
   "cell_type": "markdown",
   "metadata": {},
   "source": [
    "Cool, so now we can visualize samples from a 100-D Gaussian in this kinda of weird way. How is this useful? And how does this relate to a Gaussian Process regression?\n",
    "\n",
    "You'll notice the above plot has a \"Connect points\" button. If you click it, each variable in a given sample gets connected to the next. Try it out!\n",
    "\n",
    "Do these connected samples remind you of anything? Maybe a certain class of elementary mathematical objects?\n",
    "\n",
    "If you thought \"functions\" then you are getting what I'm going for here. Each sample from the 100-D Gaussian is starting to look like some curve where, for any x-coordinate (which is just the index of the vector output of the multivariate gaussian) you can look up a y-value. So this kinda-sorta function can be defined as \n",
    "\n",
    "$$\n",
    "f(x) = Y_{x}\n",
    "$$\n",
    "\n",
    "given a multivariate Gaussian $Y = [Y_1, Y_2, Y_3, \\dots, Y_{x}]^T \\sim \\mathcal{N}(\\boldsymbol{\\mu}, \\Sigma)$.\n",
    "\n",
    "But remember what each different colored curve is: it's a sample from a multivariate normal distribution. It's almost like the 100-D Gaussian specifies a _distribution over functions_...\n",
    "\n",
    "<img src=\"./2023-04-18-11-13-04.png\" width=\"200\" height=\"200\" />\n",
    "\n",
    "_Almost_. The 100-D Gaussian really only specifies a distribution over 100 discrete values, so it's not quite a distribution over functions $f(x)$ that can take _any_ value of $x$. Hold that thought for now, we'll return to this later. \n",
    "\n",
    "But first you might have some questions. Remember, the above plot was made by taking a few samples from 100-D gaussian, $\\textbf{Y}_{100D} \\sim \\mathcal{N}(\\boldsymbol{\\mu}, \\Sigma)$\n",
    "\n",
    "But I didn't tell you what $\\boldsymbol{\\mu}$ and $\\Sigma$ were. Well, I actually used a mean vector of all zeros:\n",
    "\n",
    "$$\n",
    "\\boldsymbol{\\mu} =  \\begin{bmatrix}\n",
    "0 \\\\\n",
    "0 \\\\\n",
    "\\vdots \\\\\n",
    "0\n",
    "\\end{bmatrix},\n",
    "$$\n",
    "\n",
    "and for the covariance matrix I simply used the Identity matrix.\n",
    "\n",
    "$$\n",
    "\\Sigma = \\begin{bmatrix}\n",
    "1 & 0 & \\dots & 0 \\\\\n",
    "0 & 1 & \\dots & 0 \\\\\n",
    "\\vdots & \\vdots & \\ddots & \\vdots \\\\\n",
    "0 & 0 & \\dots & 1\n",
    "\\end{bmatrix}.\n",
    "$$\n",
    "\n",
    "Since this covariance matrix is really big, let's visualize it with a heatmap:"
   ]
  },
  {
   "cell_type": "code",
   "execution_count": 20,
   "metadata": {
    "jupyter": {
     "source_hidden": true
    }
   },
   "outputs": [
    {
     "data": {
      "image/png": "[encoded data removed]",
      "text/plain": [
       "<Figure size 640x480 with 2 Axes>"
      ]
     },
     "metadata": {},
     "output_type": "display_data"
    }
   ],
   "source": [
    "sns.heatmap(np.identity(100))\n",
    "plt.show()"
   ]
  },
  {
   "cell_type": "markdown",
   "metadata": {},
   "source": [
    "This means that each of the variables in our multivariate normal distribution are.....???? (hover over the text below to see the answer)"
   ]
  },
  {
   "cell_type": "code",
   "execution_count": 21,
   "metadata": {
    "jupyter": {
     "source_hidden": true
    },
    "tags": []
   },
   "outputs": [
    {
     "data": {
      "text/html": [
       "\n",
       "<span class=\"hover-text\">Hover for answer</span>:\n",
       "\n",
       "<span class=\"hidden-text\">INDEPENDENT!</span>\n",
       "\n",
       "<style>\n",
       "  .hidden-text {\n",
       "    display: none;\n",
       "  }\n",
       "  \n",
       "  .hover-text:hover + .hidden-text {\n",
       "    display: inline;\n",
       "    font: 50px;\n",
       "  }\n",
       "</style>\n"
      ],
      "text/plain": [
       "<IPython.core.display.HTML object>"
      ]
     },
     "execution_count": 21,
     "metadata": {},
     "output_type": "execute_result"
    }
   ],
   "source": [
    "HTML('''\n",
    "<span class=\"hover-text\">Hover for answer</span>:\n",
    "\n",
    "<span class=\"hidden-text\">INDEPENDENT!</span>\n",
    "\n",
    "<style>\n",
    "  .hidden-text {\n",
    "    display: none;\n",
    "  }\n",
    "  \n",
    "  .hover-text:hover + .hidden-text {\n",
    "    display: inline;\n",
    "    font: 50px;\n",
    "  }\n",
    "</style>\n",
    "''')\n"
   ]
  },
  {
   "cell_type": "markdown",
   "metadata": {},
   "source": [
    "No variable has any covariance with any other, so you than think of this multivariate Gaussian as simply 100 separate Gaussians, each with mean = 0 and variance 1. This is why the curves we plotted above are so all over the place: each point is randomly bouncing up and down with no influence from its neighbors.\n",
    "\n",
    "What if we add some non-zero values to the covariance matrix that are off-diagonal? \n",
    "\n",
    ">Remember the diagonal elements of the matrix at row and column $i$ is $Cov(Y_i, Y_i) = Var(Y_i)$ while the off-diagonal elements at $i,j$ are $Cov(Y_i, Y_j)$. \n",
    "\n",
    "For example, check out the covariance matrix below: "
   ]
  },
  {
   "cell_type": "code",
   "execution_count": 22,
   "metadata": {
    "jupyter": {
     "source_hidden": true
    }
   },
   "outputs": [],
   "source": [
    "def pairwise_rbf(xa, xb, sigma=5):\n",
    "    sq_norm = (-0.5/sigma**2) * sp.spatial.distance.cdist(xa, xb, 'sqeuclidean')\n",
    "    return np.exp(sq_norm)"
   ]
  },
  {
   "cell_type": "code",
   "execution_count": 23,
   "metadata": {
    "jupyter": {
     "source_hidden": true
    },
    "tags": []
   },
   "outputs": [
    {
     "data": {
      "text/plain": [
       "<Axes: >"
      ]
     },
     "execution_count": 23,
     "metadata": {},
     "output_type": "execute_result"
    },
    {
     "data": {
      "image/png": "[encoded data removed]",
      "text/plain": [
       "<Figure size 640x480 with 2 Axes>"
      ]
     },
     "metadata": {},
     "output_type": "display_data"
    }
   ],
   "source": [
    "xa = np.arange(0, 100, 1).reshape(1, -1).T\n",
    "xb = np.arange(0, 100, 1).reshape(1, -1).T\n",
    "C = pd.DataFrame(pairwise_rbf(xa, xb))\n",
    "sns.heatmap(C)"
   ]
  },
  {
   "cell_type": "markdown",
   "metadata": {},
   "source": [
    "It looks very similar, but it's \"fuzzier\" around the diagonal. Think about what type of values you would expect from a Gaussian with this covariance matrix.\n",
    "\n",
    "It's saying that variables near each other are more correlated than variables far away. For example variable 1 is more correlated with variable 2 than it is with variable 100. Let visualize some samples from a 100-d Gaussian with this new covariance matrix. But before you hit the \"sample\" button, what do you think these new curves will look like?"
   ]
  },
  {
   "cell_type": "code",
   "execution_count": 24,
   "metadata": {
    "jupyter": {
     "source_hidden": true
    },
    "tags": []
   },
   "outputs": [
    {
     "data": {
      "application/vnd.jupyter.widget-view+json": {
       "model_id": "3ef13ed4c6514578bd4ef0d510c4bae6",
       "version_major": 2,
       "version_minor": 0
      },
      "text/plain": [
       "Button(button_style='success', description='New Sample', style=ButtonStyle())"
      ]
     },
     "metadata": {},
     "output_type": "display_data"
    },
    {
     "data": {
      "application/vnd.jupyter.widget-view+json": {
       "model_id": "d57daf8a42864152a474e091ccbe1a24",
       "version_major": 2,
       "version_minor": 0
      },
      "text/plain": [
       "Button(button_style='danger', description='Clear', style=ButtonStyle())"
      ]
     },
     "metadata": {},
     "output_type": "display_data"
    },
    {
     "data": {
      "application/vnd.jupyter.widget-view+json": {
       "model_id": "44f892e2758540db884f8592d6d19dfe",
       "version_major": 2,
       "version_minor": 0
      },
      "text/plain": [
       "FigureWidget({\n",
       "    'data': [{'mode': 'markers', 'type': 'scatter', 'uid': '47c95099-9913-4aa2-a126-12af32ecac19'}],\n",
       "    'layout': {'template': '...', 'title': {'text': 'Samples from a 100-D Multivariate Gaussian with new covariance'}}\n",
       "})"
      ]
     },
     "metadata": {},
     "output_type": "display_data"
    }
   ],
   "source": [
    "# Create scatter plot\n",
    "scatter = go.Scatter(mode='markers')\n",
    "layout = go.Layout(title='Samples from a 100-D Multivariate Gaussian with new covariance')\n",
    "fig_rbf = go.FigureWidget(go.Figure(data=[scatter], layout=layout) )\n",
    "\n",
    "# Define button and callback function\n",
    "button = widgets.Button(description='New Sample', button_style='success')\n",
    "clear_button = widgets.Button(description='Clear', button_style='danger')\n",
    "\n",
    "def on_button_clicked(button):\n",
    "    x = np.linspace(0, 100, 100)\n",
    "    cov = pairwise_rbf(x.reshape(-1, 1), x.reshape(-1, 1))\n",
    "    y = np.random.multivariate_normal(mean=np.zeros(100), cov=cov, size=1)[0]\n",
    "    scatter = go.Scatter(x=x, y=y, mode='lines+markers')#, marker=dict(color=color))\n",
    "    fig_rbf.add_trace(scatter, )\n",
    "\n",
    "\n",
    "def on_clear(button_clear):\n",
    "    fig_rbf.data = [] \n",
    "    \n",
    "button.on_click(on_button_clicked)\n",
    "clear_button.on_click(on_clear)\n",
    "display(button)\n",
    "display(clear_button)\n",
    "display(fig_rbf)\n"
   ]
  },
  {
   "cell_type": "markdown",
   "metadata": {},
   "source": [
    "Cool! They are now much smoother. This is because the variables near each other are more correlated, so nearby points are more likely to be similar. This smooths out the curves.\n",
    "\n",
    "Now we can see that by changing the covariance matrix, we can control the shape of the functions that our multivariate normal distribution produces."
   ]
  },
  {
   "cell_type": "markdown",
   "metadata": {},
   "source": [
    "We've been using the word \"functions\" a lot now, but we still never really resolved the problem that these samples are really just 100-D vectors. Sure we can connect the points with littles lines, but that's not really the same as a function. How do we get a distribution over true functions?\n",
    "\n",
    "The answer lies in how we define the covariance and mean of our multivariate Gaussian. So far we've been manually inputting some mean vector and covariance matrix. Since these are objects with discrete, finite elements, we can't really think of the distributions they define as functions. But what if we could redefine these objects (the mean and covariance) as functions? \n",
    "\n",
    "Mathematically:\n",
    "$$\n",
    "\\boldsymbol{\\mu} = m(\\textbf{x}) \\\\\n",
    "\\Sigma = k(\\textbf{x, x})\n",
    "$$\n",
    "\n",
    "Now for whatever $x$ we are interested in, we can sample from a multivariate Gaussian with mean $m(\\textbf{x})$ and covariance $k(\\textbf{x, x})$. This is one of those mathematical tricks that's so simple it's hard to understand, or maybe feels like cheating, so let's go through an example. \n",
    "\n",
    "Say we want to sample from a few specific real number $\\textbf{x} = [-\\pi, \\pi, 2\\pi]^T$ (some multiples of pi, as in 3.141...). First let's define a mean function $m(\\textbf{x})$. We can use anything we like, so let's so something really simple: $m(\\textbf{x}) = \\textbf{x}$. \n",
    "\n",
    "For the covariance function $k(\\textbf{x, x})$, we need a function of x that generates a symmetric matrix with a positive diagonal (otherwise it would not be a valid covariance). Again let's just do something really simple: $k(\\textbf{x}, \\textbf{x}) = \\operatorname{diag}(\\textbf{x} \\odot \\textbf{x} )$, where we take $\\odot$ to mean the element-wise product of $\\textbf{x}$ with $\\textbf{x}$.\n",
    "\n",
    "> You maybe be wondering, \"why define the covariance function as $k(\\textbf{x, x})$ instead of simply $k(\\textbf{x})$?\". The reason is that covariance functions in general calculate a covariance between two vectors that are not necessarily the same. Here we are just calculating the covariance of $\\textbf{x}$ with itself, but this will not always be the case...\n",
    "\n",
    "So if we put out test vector into these functions we get:\n",
    "\n",
    "$$\n",
    "\\boldsymbol{\\mu} = m(\\textbf{x}) = \\textbf{x} = [-\\pi, \\pi, 2\\pi]^T\\\\\n",
    "$$\n",
    "$$\n",
    "\\Sigma = k(\\textbf{x}, \\textbf{x}) = \\operatorname{diag}(\\textbf{x}\\odot\\textbf{x}) = \\begin{bmatrix}\n",
    "(-\\pi)^2 & 0 & 0 \\\\\n",
    "0 & (\\pi)^2 & 0 \\\\\n",
    "0 & 0 & (2\\pi)^2\n",
    "\\end{bmatrix}\n",
    "$$\n",
    "\n",
    "Now we can sample from a multivariate Gaussian at these specific values of $x$:"
   ]
  },
  {
   "cell_type": "code",
   "execution_count": 25,
   "metadata": {
    "jupyter": {
     "source_hidden": true
    },
    "tags": []
   },
   "outputs": [
    {
     "data": {
      "application/vnd.jupyter.widget-view+json": {
       "model_id": "6f34652c2d1c48a783ed8c198c6610dd",
       "version_major": 2,
       "version_minor": 0
      },
      "text/plain": [
       "Button(button_style='success', description='New Sample', style=ButtonStyle())"
      ]
     },
     "metadata": {},
     "output_type": "display_data"
    },
    {
     "data": {
      "application/vnd.jupyter.widget-view+json": {
       "model_id": "77cb30b66d804d1eae1cec2e78c6419f",
       "version_major": 2,
       "version_minor": 0
      },
      "text/plain": [
       "Button(button_style='danger', description='Clear', style=ButtonStyle())"
      ]
     },
     "metadata": {},
     "output_type": "display_data"
    },
    {
     "data": {
      "application/vnd.jupyter.widget-view+json": {
       "model_id": "5a6cf4b8ced940d0a3239c817813dcde",
       "version_major": 2,
       "version_minor": 0
      },
      "text/plain": [
       "FigureWidget({\n",
       "    'data': [{'mode': 'markers', 'type': 'scatter', 'uid': 'cf6c3d98-36f8-4494-bc14-eac7e96a4ceb'}],\n",
       "    'layout': {'template': '...', 'title': {'text': 'Samples from a 3-D Multivariate Gaussian a specific places'}}\n",
       "})"
      ]
     },
     "metadata": {},
     "output_type": "display_data"
    }
   ],
   "source": [
    "x_specific = np.array([-np.pi, np.pi, 2*np.pi])\n",
    "m = lambda x: x\n",
    "k = lambda x: np.diag(x**2)\n",
    "# Create scatter plot\n",
    "scatter = go.Scatter(mode='markers')\n",
    "layout = go.Layout(title='Samples from a 3-D Multivariate Gaussian a specific places')\n",
    "fig_real = go.FigureWidget(go.Figure(data=[scatter], layout=layout) )\n",
    "\n",
    "# Define button and callback function\n",
    "button = widgets.Button(description='New Sample', button_style='success')\n",
    "clear_button = widgets.Button(description='Clear', button_style='danger')\n",
    "\n",
    "def on_button_clicked(button):\n",
    "    cov = k(x_specific) \n",
    "    mean = m(x_specific)\n",
    "    y = np.random.multivariate_normal(mean=mean, cov=cov, size=1)[0]\n",
    "    scatter = go.Scatter(x=x_specific, y=y, mode='lines+markers', name=\"Sample\")\n",
    "    fig_real.add_trace(scatter)\n",
    "\n",
    "\n",
    "def on_clear(button_clear):\n",
    "    fig_real.data = [] \n",
    "    \n",
    "button.on_click(on_button_clicked)\n",
    "clear_button.on_click(on_clear)\n",
    "display(button)\n",
    "display(clear_button)\n",
    "display(fig_real)"
   ]
  },
  {
   "cell_type": "markdown",
   "metadata": {},
   "source": [
    "But now that we've defined our mean and covariance functions, we can sample from a multivariate Gaussian at any value of $x$ we want. For example, let's sample at 100 evenly spaced real values of $x$ between -1 and 1. All we do is plug these values into our mean and covariance functions, and then sample from the resulting multivariate Gaussian."
   ]
  },
  {
   "cell_type": "code",
   "execution_count": 26,
   "metadata": {
    "jupyter": {
     "source_hidden": true
    },
    "tags": []
   },
   "outputs": [
    {
     "data": {
      "application/vnd.jupyter.widget-view+json": {
       "model_id": "68ced8e74c1f4a7abd5822d9fb59f5c6",
       "version_major": 2,
       "version_minor": 0
      },
      "text/plain": [
       "Button(button_style='success', description='New Sample', style=ButtonStyle())"
      ]
     },
     "metadata": {},
     "output_type": "display_data"
    },
    {
     "data": {
      "application/vnd.jupyter.widget-view+json": {
       "model_id": "956950dcaf774dc9b7593be32045ec13",
       "version_major": 2,
       "version_minor": 0
      },
      "text/plain": [
       "Button(button_style='danger', description='Clear', style=ButtonStyle())"
      ]
     },
     "metadata": {},
     "output_type": "display_data"
    },
    {
     "data": {
      "application/vnd.jupyter.widget-view+json": {
       "model_id": "9cbbdab9a4a3452ab9fff661b2f5d0ec",
       "version_major": 2,
       "version_minor": 0
      },
      "text/plain": [
       "FigureWidget({\n",
       "    'data': [{'mode': 'markers', 'type': 'scatter', 'uid': '86f697f1-f30e-484e-aa9e-4ac9ed96dd42'}],\n",
       "    'layout': {'template': '...', 'title': {'text': 'Samples from a 100-D Multivariate Gaussian a specific places'}}\n",
       "})"
      ]
     },
     "metadata": {},
     "output_type": "display_data"
    }
   ],
   "source": [
    "x_real_big = np.linspace(-1, 1, 100) \n",
    "m = lambda x: x\n",
    "k = lambda x: np.diag(x**2)\n",
    "# Create scatter plot\n",
    "scatter = go.Scatter(mode='markers')\n",
    "layout = go.Layout(title='Samples from a 100-D Multivariate Gaussian a specific places')\n",
    "fig_real_big = go.FigureWidget(go.Figure(data=[scatter], layout=layout) )\n",
    "\n",
    "# Define button and callback function\n",
    "button = widgets.Button(description='New Sample', button_style='success')\n",
    "clear_button = widgets.Button(description='Clear', button_style='danger')\n",
    "\n",
    "def on_button_clicked(button):\n",
    "    cov = k(x_real_big) \n",
    "    mean = m(x_real_big)\n",
    "    y = np.random.multivariate_normal(mean=mean, cov=cov, size=1)[0]\n",
    "    scatter = go.Scatter(x=x_real_big, y=y, mode='lines+markers')#, marker=dict(color=color))\n",
    "    fig_real_big.add_trace(scatter)\n",
    "\n",
    "\n",
    "def on_clear(button_clear):\n",
    "    fig_real_big.data = [] \n",
    "    \n",
    "button.on_click(on_button_clicked)\n",
    "clear_button.on_click(on_clear)\n",
    "display(button)\n",
    "display(clear_button)\n",
    "display(fig_real_big)\n"
   ]
  },
  {
   "cell_type": "markdown",
   "metadata": {},
   "source": [
    "Now we've truly got a distribution over functions!\n",
    "\n",
    "If we want the distribution at _any_ value $x$, we can just plug it in to the mean and covariance functions and voila! We just need to define a mean and valid covariance function that we like, and we can sample from a multivariate Gaussian at any value of $x$ we want. \n",
    "\n",
    "By the way, \"covariance functions\" are usually referred to by a fancy name: **kernel functions**. Remember this plot of a covariance matrix from earlier?"
   ]
  },
  {
   "cell_type": "code",
   "execution_count": 27,
   "metadata": {
    "jupyter": {
     "source_hidden": true
    },
    "tags": []
   },
   "outputs": [
    {
     "data": {
      "text/plain": [
       "<Axes: >"
      ]
     },
     "execution_count": 27,
     "metadata": {},
     "output_type": "execute_result"
    },
    {
     "data": {
      "image/png": "[encoded data removed]",
      "text/plain": [
       "<Figure size 640x480 with 2 Axes>"
      ]
     },
     "metadata": {},
     "output_type": "display_data"
    }
   ],
   "source": [
    "xa = np.arange(0, 100, 1).reshape(1, -1).T\n",
    "C = pd.DataFrame(pairwise_rbf(xa, xa))\n",
    "sns.heatmap(C)"
   ]
  },
  {
   "cell_type": "markdown",
   "metadata": {},
   "source": [
    "This covariance we actually generated by using a specific kernel function called the squared exponential kernel, a.k.a. the Gaussian kernel a.k.a the RBF kernel. \n",
    "\n",
    "It's defined as:\t\n",
    "\n",
    "$$\n",
    "k(\\textbf{x}) = \\exp\\left(-\\frac{1}{2l^2} ||\\textbf{x} - \\textbf{x}||^2\\right)\n",
    "$$\n",
    "\n",
    "where $||\\textbf{x} - \\textbf{x}||^2$ is the element-wise squared difference matrix between each element of $x$ with each other element, and $l$ is an adjustable parameter. \n",
    "\n",
    "No need to worry about the math here too closely. The important thing to note is that the squared exponential kernel is a function of $\\textbf{x}$ that generates a positive semidefinite matrix. It's covariance function, a.k.a. kernel, and it happens to be one of the most useful kernels in the real-world.\n",
    "\n",
    "Using this kernel function, lets sample from a multivariate Gaussian at 100 evenly spaced real values of $x$ between -10 and 10. But this time you can adjust the slider to change the value of the kernel's $l$ parameter and see how it changes the shape of the covariance matrix and the resulting distribution over functions."
   ]
  },
  {
   "cell_type": "code",
   "execution_count": 28,
   "metadata": {
    "jupyter": {
     "source_hidden": true
    },
    "tags": []
   },
   "outputs": [
    {
     "data": {
      "application/vnd.jupyter.widget-view+json": {
       "model_id": "14d4a91d0b9b4b5b9bb752d94a2ecb69",
       "version_major": 2,
       "version_minor": 0
      },
      "text/plain": [
       "Button(button_style='success', description='New Sample', style=ButtonStyle())"
      ]
     },
     "metadata": {},
     "output_type": "display_data"
    },
    {
     "data": {
      "application/vnd.jupyter.widget-view+json": {
       "model_id": "ca250b55029140428800663ca9c5e0ad",
       "version_major": 2,
       "version_minor": 0
      },
      "text/plain": [
       "Button(button_style='danger', description='Clear', style=ButtonStyle())"
      ]
     },
     "metadata": {},
     "output_type": "display_data"
    },
    {
     "data": {
      "application/vnd.jupyter.widget-view+json": {
       "model_id": "095fd787fcde4f7e94fee163640616d4",
       "version_major": 2,
       "version_minor": 0
      },
      "text/plain": [
       "FloatSlider(value=5.0, description='Kernel Parameter l:', max=10.0, min=0.1, style=SliderStyle(description_wid…"
      ]
     },
     "metadata": {},
     "output_type": "display_data"
    },
    {
     "data": {
      "application/vnd.jupyter.widget-view+json": {
       "model_id": "f8417d2ff060432e85d30a82208f99e9",
       "version_major": 2,
       "version_minor": 0
      },
      "text/plain": [
       "FigureWidget({\n",
       "    'data': [{'showscale': False,\n",
       "              'type': 'heatmap',\n",
       "              'uid': '83378869-2411-40f9-94dc-f4b6647faf66',\n",
       "              'xaxis': 'x2',\n",
       "              'yaxis': 'y2',\n",
       "              'z': array([[3.35462628e-04, 3.93984070e-04, 4.61959816e-04, ..., 9.96740351e-01,\n",
       "                           9.99184090e-01, 1.00000000e+00],\n",
       "                          [3.93984070e-04, 4.61959816e-04, 5.40780169e-04, ..., 9.99184090e-01,\n",
       "                           1.00000000e+00, 9.99184090e-01],\n",
       "                          [4.61959816e-04, 5.40780169e-04, 6.32016381e-04, ..., 1.00000000e+00,\n",
       "                           9.99184090e-01, 9.96740351e-01],\n",
       "                          ...,\n",
       "                          [9.96740351e-01, 9.99184090e-01, 1.00000000e+00, ..., 6.32016381e-04,\n",
       "                           5.40780169e-04, 4.61959816e-04],\n",
       "                          [9.99184090e-01, 1.00000000e+00, 9.99184090e-01, ..., 5.40780169e-04,\n",
       "                           4.61959816e-04, 3.93984070e-04],\n",
       "                          [1.00000000e+00, 9.99184090e-01, 9.96740351e-01, ..., 4.61959816e-04,\n",
       "                           3.93984070e-04, 3.35462628e-04]])}],\n",
       "    'layout': {'annotations': [{'font': {'size': 16},\n",
       "                                'showarrow': False,\n",
       "                                'text': 'Function Samples',\n",
       "                                'x': 0.225,\n",
       "                                'xanchor': 'center',\n",
       "                                'xref': 'paper',\n",
       "                                'y': 1.0,\n",
       "                                'yanchor': 'bottom',\n",
       "                                'yref': 'paper'},\n",
       "                               {'font': {'size': 16},\n",
       "                                'showarrow': False,\n",
       "                                'text': 'Covariance Matrix',\n",
       "                                'x': 0.775,\n",
       "                                'xanchor': 'center',\n",
       "                                'xref': 'paper',\n",
       "                                'y': 1.0,\n",
       "                                'yanchor': 'bottom',\n",
       "                                'yref': 'paper'}],\n",
       "               'template': '...',\n",
       "               'xaxis': {'anchor': 'y', 'domain': [0.0, 0.45]},\n",
       "               'xaxis2': {'anchor': 'y2', 'domain': [0.55, 1.0]},\n",
       "               'yaxis': {'anchor': 'x', 'domain': [0.0, 1.0]},\n",
       "               'yaxis2': {'anchor': 'x2', 'domain': [0.0, 1.0]}}\n",
       "})"
      ]
     },
     "metadata": {},
     "output_type": "display_data"
    }
   ],
   "source": [
    "layout = go.Layout(title='Samples from a 100-D Multivariate Gaussian with new covariance')\n",
    "fig_double = go.FigureWidget(make_subplots(rows=1, cols=2, subplot_titles=('Function Samples', 'Covariance Matrix')))\n",
    "xa = np.linspace(-10, 10, 100).reshape(1, -1).T\n",
    "C = pd.DataFrame(pairwise_rbf(xa, xa))\n",
    "cov_map = go.Heatmap(z=np.rot90(C), showscale=False)\n",
    "fig_double.add_trace(cov_map, row=1, col=2)\n",
    "\n",
    "# Define button and callback function\n",
    "button = widgets.Button(description='New Sample', button_style='success')\n",
    "clear_button = widgets.Button(description='Clear', button_style='danger')\n",
    "length_slider = FloatSlider(value=5, min=.1, max=10, step=0.1, description='Kernel Parameter l:')\n",
    "length_slider.style = {'description_width': 'initial'} \n",
    "\n",
    "def on_button_clicked(button):\n",
    "    global C\n",
    "    x = np.linspace(-10, 10, 100)\n",
    "    y = np.random.multivariate_normal(mean=np.zeros(100), cov=C, size=1)[0]\n",
    "    scatter = go.Scatter(x=x, y=y, mode='lines', name=f'Kernel l = {np.round(length_slider.value, 2)}')\n",
    "    fig_double.add_trace(scatter, row=1, col=1)\n",
    "\n",
    "def on_clear(button_clear):\n",
    "    #delete all traces in the subplot\n",
    "    fig_double.data = fig.data[:1]\n",
    "\n",
    "def update_covariance(length_scale):\n",
    "    global C\n",
    "    cov = pairwise_rbf(xa, xa, sigma=length_scale['new'])\n",
    "    C = pd.DataFrame(cov)\n",
    "    s = fig_double.data[0]\n",
    "    s.z = np.rot90(C)\n",
    "\n",
    "length_slider.observe(update_covariance, names='value')  # type: ignore \n",
    "button.on_click(on_button_clicked)\n",
    "clear_button.on_click(on_clear)\n",
    "display(button)\n",
    "display(clear_button)\n",
    "display(length_slider)\n",
    "display(fig_double)"
   ]
  },
  {
   "cell_type": "markdown",
   "metadata": {},
   "source": [
    "## Conditioning on Data\n",
    "\n",
    "Wow, we've come a long way. Let's regroup here and remember our original definition of a Gaussian Process Regression.\n",
    "\n",
    "**GP Regression: <span style=\"color:#0ff\">A Multivariate Gaussian Distribution over functions</span>, conditioned on some training data.**\n",
    "\n",
    "We're more than half-way done! But we still need to condition it on some training data. Right now we're just sampling these pretty functions, but they are completely random. \n",
    "\n",
    "Conditioning means we want the probability of some outcome given some data. Mathematically we write this as:\n",
    "\n",
    "$$\n",
    "p(y | x)\n",
    "$$\n",
    "\n",
    "that is, the probability of some outcome $y$ given some other data $x$. \n",
    "\n",
    "Let's take a simple toy problem as a concrete example:\n",
    "\n",
    "Say we are trying to predict the cost of a house along a particular road. At one end of the road, there is a nuclear power plant (yikes!). We have some data on the cost of some of the houses on this road, but we want to predict the cost of a house at any location. Let's look at the data first: "
   ]
  },
  {
   "cell_type": "code",
   "execution_count": 29,
   "metadata": {
    "jupyter": {
     "source_hidden": true
    },
    "tags": []
   },
   "outputs": [
    {
     "data": {
      "image/png": "[encoded data removed]",
      "text/plain": [
       "<Figure size 640x480 with 1 Axes>"
      ]
     },
     "metadata": {},
     "output_type": "display_data"
    }
   ],
   "source": [
    "X = np.array([[9.34825241e+00],\n",
    "       [9.67438030e+00],\n",
    "       [1.17250505e+01],\n",
    "       [5.99427279e+00],\n",
    "       [1.07375146e+01],\n",
    "       [3.87950162e+00],\n",
    "       [2.71045131e+00],\n",
    "       [7.35740185e+00],\n",
    "       [9.13638194e+00],\n",
    "       [1.05863164e+01],\n",
    "       [7.42074188e+00],\n",
    "       [1.20328572e+01],\n",
    "       [5.15531137e+00],\n",
    "       [3.24806136e-01],\n",
    "       [1.32962952e-03]])\n",
    "y = np.array([[295011.54177245],\n",
    "       [291803.4301587 ],\n",
    "       [302340.03191297],\n",
    "       [254244.52812629],\n",
    "       [288037.40660445],\n",
    "       [225340.17067212],\n",
    "       [235462.67258466],\n",
    "       [291158.36183822],\n",
    "       [297052.11645609],\n",
    "       [287514.83630223],\n",
    "       [292359.62730391],\n",
    "       [310157.34073017],\n",
    "       [233483.05286424],\n",
    "       [209630.56264745],\n",
    "       [200039.88887763]])\n",
    "DOMAIN = (0, 4*np.pi)\n",
    "X_axis = np.linspace(DOMAIN[0], DOMAIN[1], 100).reshape(1, -1).T\n",
    "y_true = (.1 * np.sin(X_axis) + 1) * 200000 + X_axis * 10000\n",
    "# X = np.random.uniform(DOMAIN[0], DOMAIN[1], 15).reshape(1, -1).T\n",
    "# y = (.1 * np.sin(X) + 1) * 200000 + X * 10000\n",
    "X_test = np.linspace(DOMAIN[0], DOMAIN[1], 100).reshape(1, -1).T\n",
    "df = pd.DataFrame(y.flatten(), index=X.flatten(), columns=[\"Cost of a house\"]).sort_index()\n",
    "df.index.name = \"Distance from the Nuclear Power Plant (miles)\"\n",
    "df_ax = df.plot(style=\"o\", color=\"red\" )\n",
    "# pd.DataFrame(y_true.flatten(), index=X_axis.flatten(), columns=[\"y true\"]).sort_index().plot(ax=df_ax, color=\"black\" )"
   ]
  },
  {
   "cell_type": "markdown",
   "metadata": {},
   "source": [
    "Right away we see a couple things. Housing costs are not just linearly increasing as we get further away from the plant; there seem to be a few dips. Maybe there is a prison 5 miles away from the plant; who knows. Regardless, we probably want some non-linear model for this data. \n",
    "\n",
    "The main question at hand is given this known cost data, what is the expected cost of a house at another location $x$?\n",
    "\n",
    "To state this mathematically, we want some function structured as follows:\n",
    "\n",
    "$$\n",
    "p(\\textbf{c} | \\textbf{x})\n",
    "$$\n",
    "\n",
    "That is, we want the probability distribution of cost of a house $c$, given its distance $x$ from the nuclear plant. Since we've been thinking about multivariate Gaussian, let's make an assumption that the distribution above follows a multivariate Gaussian.\n",
    "\n",
    "$$\n",
    "p(\\textbf{c} | \\textbf{x}) \\sim \\mathcal{N}(m(\\textbf{x}), k(\\textbf{x}, \\textbf{x}))\n",
    "$$\n",
    "\n",
    "Where $k(\\textbf{x}, \\textbf{x})$ is the covariance function, and $m(\\textbf{x})$ is the mean function. For now we'll just assume that the mean function is zero, and for the covariance function we'll use the squared exponential kernel. \n",
    "\n",
    "Why these? Remember that the squared exponential function's effect above: it sort of \"smooths\" out the data. This makes sense to model housing prices, because it's reasonable to expect that houses near each other will have similar prices. \n",
    "\n",
    "> But why is the mean function zero? A: trust me bro. It just works out in practice that the covariance function is enough to model the data. For example sklearn's GP implementation doesn't even let you specify a mean function.\n",
    "\n",
    "We really need the following if we want to condition on the known data:\n",
    "\n",
    "$$\n",
    "p(\\textbf{c} | \\textbf{x}, \\textbf{c}_{\\text{known}}, \\textbf{x}_{\\text{known}})\n",
    "$$\n",
    "\n",
    "Putting this into words, we want the probability distribution of prices of a house, given its location _and_ given the prices of houses at some other locations.\n",
    "\n",
    "Let's assume that the known data also came from the same multivariate Gaussian distribution as the unknown. So we can write:\n",
    "\n",
    "\n",
    "$$\n",
    "p(\\textbf{c}_{\\text{known}}| \\textbf{x}_{\\text{known}}) \\sim \\mathcal{N}(0, k(\\textbf{x}_{\\text{known}}, \\textbf{x}_{\\text{known}}))\n",
    "$$\n",
    "\n",
    "And for the unknown data, remember we had:\n",
    "\n",
    "$$\n",
    "p(\\textbf{c} | \\textbf{x}) \\sim \\mathcal{N}(0, k(\\textbf{x}, \\textbf{x}))\n",
    "$$\n",
    "\n",
    "Notice that we've assumed both the known data and the unknown data come from multivariate Gaussians. What if we just combined them into one big multivariate gaussian? We could basically just stack the distributions on top of each other to form a big \"mother\" Gaussian.\n",
    "\n",
    "$$\n",
    "p(\\begin{bmatrix} \\textbf{c} \\\\ \\textbf{c}_{\\text{known}} \\end{bmatrix} | \\begin{bmatrix} \\textbf{x} \\\\ \\textbf{x}_{\\text{known}} \\end{bmatrix}) \\sim \\mathcal{N}\\left(\\begin{bmatrix}0 \\\\ 0\\end{bmatrix}, \\begin{bmatrix}k(\\textbf{x}, \\textbf{x}) & k(\\textbf{x}, \\textbf{x}_{\\text{known}}) \\\\ k(\\textbf{x}_{\\text{known}}, \\textbf{x}) & k(\\textbf{x}_{\\text{known} }, \\textbf{x}_{\\text{known}})\\end{bmatrix}\\right)\n",
    "$$\n",
    "\n",
    "The one wrinkle here is the covariance function. For the off-diagonal elements, we need to use the covariance function between the unknown data and the known data. So _now_ we see why the kernel function is written as $k(\\textbf{x}, \\textbf{x})$; in this case we need to compute the covariance between two different vectors of data to fill in the off-diagonal blocks of the covariance matrix above.\n",
    "\n",
    "Now question is can we massage the beast above into a probability distribution conditioned on the known data? Like so:\n",
    "\n",
    "$p(\\textbf{c} | \\textbf{x}, \\textbf{c}_{\\text{known}}, \\textbf{x}_{\\text{known}}) \\sim ???$\n",
    "\n",
    "The answer is yes. It's the following:\n",
    "\n",
    "$$\n",
    "p(\\textbf{c} | \\textbf{x}, \\textbf{c}_{\\text{known}}, \\textbf{x}_{\\text{known}}) \\sim \\mathcal{N}\\left(m(\\textbf{x}) + k(\\textbf{x}, \\textbf{x}_{\\text{known}})k(\\textbf{x}_{\\text{known}})^{-1}(\\textbf{c}_{\\text{known}} - m(\\textbf{x}_{\\text{known}})), k(\\textbf{x}) - k(\\textbf{x}, \\textbf{x}_{\\text{known}})k(\\textbf{x}_{\\text{known}})^{-1}k(\\textbf{x}_{\\text{known}}, \\textbf{x})\\right)\n",
    "$$\n",
    "\n",
    "Please don't get mad at me for just giving you the answer. It's a kind of complicated derivation, and I don't want us to get bogged down. If you want to go through it, see this section of [Gaussian Processes for Machine Learning](http://gaussianprocess.org/gpml/chapters/RW.pdf#page=218&zoom=100,240,358). \n",
    "\n",
    "For now, just accept that there's a nice closed form solution to this problem. \n",
    "\n",
    "Wait, uh, so we're done? \n",
    "\n",
    "**GP Regression: <span style=\"color:#0ff\">A Multivariate Gaussian Distribution over functions, conditioned on some training data.</span>**\n",
    "\n",
    "We're done! We've got a nice closed form distribution over functions conditioned on some data."
   ]
  },
  {
   "cell_type": "markdown",
   "metadata": {},
   "source": [
    "## Actually Fitting a Regression Model\n",
    "\n",
    "Using our conditional distribution above, we can plug in our known house costs to create a conditional distribution of functions. Then we can sample from this distribution at, say, 100 evenly spaced distance from 0 to 12 miles away from the nuclear plant.\n",
    "\n",
    "We have 15 know cost data points. This means that $\\textbf{c}_{\\text{known}}$ and $\\textbf{x}_{\\text{known}}$ is are vectors of length 15. We want to predicted prices at 100 evenly spaced points, so $\\textbf{x}$ and $\\textbf{c}$ are vectors of length 100. \n",
    "\n",
    "Plugging this into the conditional distribution above, we can now sample from the conditional distribution of functions:"
   ]
  },
  {
   "cell_type": "code",
   "execution_count": 30,
   "metadata": {
    "jupyter": {
     "source_hidden": true
    }
   },
   "outputs": [],
   "source": [
    "def gp_posterior(y_train, X_train, X_test, sigma=1.):\n",
    "    sigma_11 = pairwise_rbf(X_train, X_train, sigma=sigma)\n",
    "    sigma_21 = pairwise_rbf(X_train, X_test, sigma=sigma).T\n",
    "    sigma_22 = pairwise_rbf(X_test, X_test, sigma=sigma)\n",
    "    sigma_12 = sigma_21.T \n",
    "    mu_2_1 = (sigma_21 @ sp.linalg.inv(sigma_11) @ y_train).flatten()\n",
    "    sigma_2_1 = sigma_22 - sigma_21 @ sp.linalg.inv(sigma_11) @ sigma_12\n",
    "    return mu_2_1, sigma_2_1"
   ]
  },
  {
   "cell_type": "code",
   "execution_count": 34,
   "metadata": {
    "jupyter": {
     "source_hidden": true
    },
    "tags": []
   },
   "outputs": [
    {
     "data": {
      "application/vnd.jupyter.widget-view+json": {
       "model_id": "788f8984234e48d19fa4d2ee62a9c166",
       "version_major": 2,
       "version_minor": 0
      },
      "text/plain": [
       "Button(button_style='success', description='New Sample', style=ButtonStyle())"
      ]
     },
     "metadata": {},
     "output_type": "display_data"
    },
    {
     "data": {
      "application/vnd.jupyter.widget-view+json": {
       "model_id": "e58e8feeeb7343c2997edfcc027df8af",
       "version_major": 2,
       "version_minor": 0
      },
      "text/plain": [
       "Button(button_style='danger', description='Clear', style=ButtonStyle())"
      ]
     },
     "metadata": {},
     "output_type": "display_data"
    },
    {
     "data": {
      "application/vnd.jupyter.widget-view+json": {
       "model_id": "8a591c9ba85e4d368838554a55a05fef",
       "version_major": 2,
       "version_minor": 0
      },
      "text/plain": [
       "FigureWidget({\n",
       "    'data': [{'marker': {'color': 'red', 'size': 12},\n",
       "              'mode': 'markers',\n",
       "              'name': 'Known Data',\n",
       "              'type': 'scatter',\n",
       "              'uid': '8ccb7dba-3e50-4afd-8f24-a5aaa07e7568',\n",
       "              'x': array([9.34825241e+00, 9.67438030e+00, 1.17250505e+01, 5.99427279e+00,\n",
       "                          1.07375146e+01, 3.87950162e+00, 2.71045131e+00, 7.35740185e+00,\n",
       "                          9.13638194e+00, 1.05863164e+01, 7.42074188e+00, 1.20328572e+01,\n",
       "                          5.15531137e+00, 3.24806136e-01, 1.32962952e-03]),\n",
       "              'y': array([295011.54177245, 291803.4301587 , 302340.03191297, 254244.52812629,\n",
       "                          288037.40660445, 225340.17067212, 235462.67258466, 291158.36183822,\n",
       "                          297052.11645609, 287514.83630223, 292359.62730391, 310157.34073017,\n",
       "                          233483.05286424, 209630.56264745, 200039.88887763])}],\n",
       "    'layout': {'template': '...',\n",
       "               'title': {'text': 'Samples from a Gaussian Process Conditioned on Known Housing Data'},\n",
       "               'xaxis': {'title': {'text': 'Distance from the Nuclear Power Plant (miles)'}},\n",
       "               'yaxis': {'title': {'text': 'Cost of a house ($)'}}}\n",
       "})"
      ]
     },
     "metadata": {},
     "output_type": "display_data"
    }
   ],
   "source": [
    "y_norm  = (y - y.mean()) / y.std()\n",
    "mu, sigma = gp_posterior(y_norm, X , X_test, sigma=1)    \n",
    "\n",
    "# Create scatter plot\n",
    "scatter_init = go.Scatter(x=X.T[0], y=y.T[0], mode='markers', marker=dict(color='red', size=12), name='Known Data')\n",
    "layout = go.Layout(title='Samples from a Gaussian Process Conditioned on Known Housing Data', xaxis_title='Distance from the Nuclear Power Plant (miles)', yaxis_title='Cost of a house ($)')\n",
    "fig_final = go.FigureWidget(go.Figure(data=[scatter_init], layout=layout) )\n",
    "# Define button and callback function\n",
    "button = widgets.Button(description='New Sample', button_style='success')\n",
    "clear_button = widgets.Button(description='Clear', button_style='danger')\n",
    "\n",
    "def on_button_clicked(button):\n",
    "    y_hat = (np.random.multivariate_normal(mu, sigma, size=1) * y.std()) + y.mean()\n",
    "    scatter = go.Scatter(x=X_axis.T[0], y=y_hat[0], mode='lines+markers', name=f'New Sample', marker=dict(size=4))\n",
    "    fig_final.add_trace(scatter)\n",
    "\n",
    "def on_clear(button_clear):\n",
    "    fig_final.data = [] \n",
    "    fig_final.add_trace(scatter_init)\n",
    "    \n",
    "button.on_click(on_button_clicked)\n",
    "clear_button.on_click(on_clear)\n",
    "display(button)\n",
    "display(clear_button)\n",
    "display(fig_final)"
   ]
  },
  {
   "cell_type": "markdown",
   "metadata": {},
   "source": [
    "Heck yeah! This looks like a Gaussian process regression! Clearly the samples from the distribution are conditioned on known data, because all the functions we sample pass through the known data points. But in between the known data points the functions are free to somewhat randomly vary, giving us an idea of the uncertainty. How smoothly the functions vary is determined by the covariance function, which in this case is the squared exponential kernel.\n",
    "\n",
    "In the plot below, I've taken 1000 samples from this conditioned distribution (a.k.a. \"posterior predictive distribution\") and plotted them. I also plotted the real function that I used to generate the fake housing data in black. "
   ]
  },
  {
   "cell_type": "code",
   "execution_count": 32,
   "metadata": {
    "jupyter": {
     "source_hidden": true
    },
    "tags": []
   },
   "outputs": [
    {
     "data": {
      "text/plain": [
       "<Axes: xlabel='Blocks away from the Nuclear Power Plant', ylabel='Price'>"
      ]
     },
     "execution_count": 32,
     "metadata": {},
     "output_type": "execute_result"
    },
    {
     "data": {
      "image/png": "[encoded data removed]",
      "text/plain": [
       "<Figure size 640x480 with 1 Axes>"
      ]
     },
     "metadata": {},
     "output_type": "display_data"
    }
   ],
   "source": [
    "y_norm  = (y - y.mean()) / y.std()\n",
    "mu, sigma = gp_posterior(y_norm, X , X_test, sigma=1)    \n",
    "y_hat = (np.random.multivariate_normal(mu, sigma, size=1000) * y.std()) + y.mean()\n",
    "\n",
    "df_1 = pd.DataFrame(y_hat.T, index=X_test.flatten()).sort_index().plot(alpha=.01, legend=False, color=\"blue\")\n",
    "df_1.set_ylabel(\"Price\")\n",
    "df_1.set_xlabel(\"Blocks away from the Nuclear Power Plant\")\n",
    "pd.DataFrame(y_true.flatten(), index=X_axis.flatten(), columns=[\"Underlying Function\"]).sort_index().plot(ax=df_1, color=\"black\", linewidth=2 )\n",
    "pd.DataFrame(y.flatten(), index=X.flatten(), columns=[\"Known Data\"]).sort_index().plot(ax=df_1, style=\"o\", color=\"red\" )"
   ]
  },
  {
   "cell_type": "markdown",
   "metadata": {},
   "source": [
    "## Outro\n",
    "\n",
    "You should now have the core ideas of Gaussian processes regression. If you still have some questions, like \"how do we choose a kernel function?\" or \"how do we choose the best parameters for the kernel function?\" or \"do you really have to sample 1000 functions to get the confidence intervals?\" then you should check out the resources below. They should be easy to understand now that you have the basics "
   ]
  },
  {
   "cell_type": "markdown",
   "metadata": {},
   "source": [
    "## References/Citations\n",
    "\n",
    "- https://peterroelants.github.io/posts/gaussian-process-tutorial/\n",
    "  - Really awesome set of blog posts that teaches GPs using Python. I basically took this post and made it more verbose. \n",
    "  - The other posts in the series go into more detail about the process of fitting a GP and optimizing the kernel and hyperparameters. \n",
    "- https://distill.pub/2019/visual-exploration-gaussian-processes/\n",
    "  - Another good GP blog post with beautiful interactive visualizations: \n",
    "- https://www.dominodatalab.com/blog/fitting-gaussian-process-models-python\n",
    "  - A good guide on using existing python libraries (lik scikit-learn) to fit GPs \n",
    "- http://gaussianprocess.org/gpml/chapters/\n",
    "  - _The book_ on GPs, with probably all the detail you'll ever need: "
   ]
  }
 ],
 "metadata": {
  "kernelspec": {
   "display_name": "Python 3 (ipykernel)",
   "language": "python",
   "name": "python3"
  },
  "language_info": {
   "codemirror_mode": {
    "name": "ipython",
    "version": 3
   },
   "file_extension": ".py",
   "mimetype": "text/x-python",
   "name": "python",
   "nbconvert_exporter": "python",
   "pygments_lexer": "ipython3",
   "version": "3.11.2"
  }
 },
 "nbformat": 4,
 "nbformat_minor": 4
}
